{
  "cells": [
    {
      "cell_type": "markdown",
      "id": "fcb89744",
      "metadata": {
        "id": "fcb89744"
      },
      "source": [
        "<a href=\"https://colab.research.google.com/github/gardner/nais/blob/master/chat_engine_react.ipynb\" target=\"_parent\"><img src=\"https://colab.research.google.com/assets/colab-badge.svg\" alt=\"Open In Colab\"/></a>"
      ]
    },
    {
      "cell_type": "markdown",
      "id": "2509fcb7-f84e-4c01-b23c-6e0942c2df10",
      "metadata": {
        "id": "2509fcb7-f84e-4c01-b23c-6e0942c2df10"
      },
      "source": [
        "# Chat Engine - ReAct Agent Mode"
      ]
    },
    {
      "cell_type": "markdown",
      "id": "84aca142-a611-4a18-8673-c261edd1631c",
      "metadata": {
        "id": "84aca142-a611-4a18-8673-c261edd1631c"
      },
      "source": [
        "ReAct is an agent based chat mode built on top of a query engine over your data."
      ]
    },
    {
      "cell_type": "markdown",
      "id": "9d9dcfd5-ec96-4407-a5b7-ca3fadf22419",
      "metadata": {
        "id": "9d9dcfd5-ec96-4407-a5b7-ca3fadf22419"
      },
      "source": [
        "For each chat interaction, the agent enter a ReAct loop:\n",
        "* first decide whether to use the query engine tool and come up with appropriate input\n",
        "* (optional) use the query engine tool and observe its output\n",
        "* decide whether to repeat or give final response"
      ]
    },
    {
      "cell_type": "markdown",
      "id": "d765ea5c-e193-4298-96cc-978c87ffcafe",
      "metadata": {
        "id": "d765ea5c-e193-4298-96cc-978c87ffcafe"
      },
      "source": [
        "This approach is flexible, since it can flexibility choose between querying the knowledge base or not.\n",
        "However, the performance is also more dependent on the quality of the LLM.\n",
        "You might need to do more coercing to make sure it chooses to query the knowledge base at right times, instead of hallucinating an answer."
      ]
    },
    {
      "cell_type": "markdown",
      "id": "82918147",
      "metadata": {
        "id": "82918147"
      },
      "source": [
        "If you're opening this Notebook on colab, you will probably need to install LlamaIndex 🦙."
      ]
    },
    {
      "cell_type": "code",
      "execution_count": 11,
      "id": "c3262785",
      "metadata": {
        "id": "c3262785"
      },
      "outputs": [],
      "source": [
        "%pip -q install llama-index llama-index-llms-gemini langchain-google-genai llama-index-readers-file llama-index-llms-langchain llama-index-embeddings-langchain langchain-community"
      ]
    },
    {
      "cell_type": "code",
      "execution_count": 1,
      "id": "e2c7c749",
      "metadata": {
        "colab": {
          "base_uri": "https://localhost:8080/"
        },
        "id": "e2c7c749",
        "outputId": "c30b8d32-7a7c-4c38-8b6a-ec289f3c6604"
      },
      "outputs": [
        {
          "name": "stdout",
          "output_type": "stream",
          "text": [
            "Enter your Gemini API key: ··········\n"
          ]
        }
      ],
      "source": [
        "import os\n",
        "from getpass import getpass\n",
        "\n",
        "# Safely input your API key\n",
        "# See https://ai.google.dev/gemini-api/docs/api-key\n",
        "\n",
        "os.environ[\"GOOGLE_API_KEY\"] = getpass(\"Enter your Gemini API key: \")"
      ]
    },
    {
      "cell_type": "markdown",
      "id": "8acd322f",
      "metadata": {
        "id": "8acd322f"
      },
      "source": [
        "## Download Data"
      ]
    },
    {
      "cell_type": "code",
      "execution_count": 2,
      "id": "29c01fe1",
      "metadata": {
        "colab": {
          "base_uri": "https://localhost:8080/"
        },
        "id": "29c01fe1",
        "outputId": "c5b7227a-6bbc-4c00-af8b-59a57f9e40e7"
      },
      "outputs": [
        {
          "output_type": "stream",
          "name": "stdout",
          "text": [
            "--2025-05-12 22:16:48--  https://raw.githubusercontent.com/run-llama/llama_index/main/docs/docs/examples/data/paul_graham/paul_graham_essay.txt\n",
            "Resolving raw.githubusercontent.com (raw.githubusercontent.com)... 185.199.108.133, 185.199.109.133, 185.199.110.133, ...\n",
            "Connecting to raw.githubusercontent.com (raw.githubusercontent.com)|185.199.108.133|:443... connected.\n",
            "HTTP request sent, awaiting response... 200 OK\n",
            "Length: 75042 (73K) [text/plain]\n",
            "Saving to: ‘data/paul_graham/paul_graham_essay.txt’\n",
            "\n",
            "data/paul_graham/pa 100%[===================>]  73.28K  --.-KB/s    in 0.02s   \n",
            "\n",
            "2025-05-12 22:16:49 (3.24 MB/s) - ‘data/paul_graham/paul_graham_essay.txt’ saved [75042/75042]\n",
            "\n"
          ]
        }
      ],
      "source": [
        "!mkdir -p 'data/paul_graham/'\n",
        "!wget 'https://raw.githubusercontent.com/run-llama/llama_index/main/docs/docs/examples/data/paul_graham/paul_graham_essay.txt' -O 'data/paul_graham/paul_graham_essay.txt'"
      ]
    },
    {
      "cell_type": "markdown",
      "id": "70be3c76-98d4-4df5-9cc6-8ceba34f23fb",
      "metadata": {
        "id": "70be3c76-98d4-4df5-9cc6-8ceba34f23fb"
      },
      "source": [
        "### Get started by setting up the models"
      ]
    },
    {
      "cell_type": "code",
      "execution_count": 3,
      "id": "8bf4cb33-46c7-4f45-a43c-b478f68e9b0b",
      "metadata": {
        "id": "8bf4cb33-46c7-4f45-a43c-b478f68e9b0b"
      },
      "outputs": [],
      "source": [
        "from llama_index.core import VectorStoreIndex, SimpleDirectoryReader\n",
        "from langchain_google_genai import ChatGoogleGenerativeAI\n",
        "from llama_index.llms.langchain import LangChainLLM\n",
        "from langchain_google_genai import GoogleGenerativeAIEmbeddings\n",
        "from llama_index.embeddings.langchain import LangchainEmbedding\n",
        "\n",
        "llm = LangChainLLM(ChatGoogleGenerativeAI(model=\"gemini-2.0-flash\"))\n",
        "embed_model = LangchainEmbedding(GoogleGenerativeAIEmbeddings(model=\"models/text-embedding-004\"))"
      ]
    },
    {
      "cell_type": "markdown",
      "source": [
        "### Check out some test embeddings\n",
        "\n",
        "The `embed_model.get_text_embedding()` function uses the Gemini API to get numerical representations of text.\n",
        "\n",
        "You can change the text and see the different values for `cosine_sim`. Sentences that have similar _meaning_ will have a higher `cosine_sim` value.\n",
        "\n",
        "Try sentences that use different words but mean the same thing."
      ],
      "metadata": {
        "id": "MANxGnLbh2Ak"
      },
      "id": "MANxGnLbh2Ak"
    },
    {
      "cell_type": "code",
      "source": [
        "import numpy as np\n",
        "from scipy.spatial import distance\n",
        "\n",
        "embedding1 = embed_model.get_text_embedding(\"Gardner likes surfing.\")\n",
        "embedding2 = embed_model.get_text_embedding(\"He enjoys swimming.\")\n",
        "\n",
        "# Cosine similarity\n",
        "cosine_sim = np.dot(embedding1, embedding2) / (np.linalg.norm(embedding1) * np.linalg.norm(embedding2))\n",
        "\n",
        "print(f\"Cosine similarity: {cosine_sim:.4f}\\n\\n\")\n",
        "print(f\"Raw embedding1:\\n{str(embedding1)[:80]}...\\n---\\n\")\n",
        "print(f\"Raw embedding2:\\n{str(embedding2)[:80]}...\\n---\\n\")\n",
        "\n"
      ],
      "metadata": {
        "colab": {
          "base_uri": "https://localhost:8080/"
        },
        "id": "SBhWUhpvdPXc",
        "outputId": "8c53a675-e5d0-42ab-ca81-6ed4ab95ca71"
      },
      "id": "SBhWUhpvdPXc",
      "execution_count": 10,
      "outputs": [
        {
          "output_type": "stream",
          "name": "stdout",
          "text": [
            "Cosine similarity: 0.7744\n",
            "\n",
            "\n",
            "Raw embedding1:\n",
            "[0.004486949183046818, -0.0017152897780761123, -0.06783394515514374, -0.00014385...\n",
            "---\n",
            "\n",
            "Raw embedding2:\n",
            "[-0.011345882900059223, 0.0017464363481849432, -0.052332378923892975, -0.0084953...\n",
            "---\n",
            "\n"
          ]
        }
      ]
    },
    {
      "cell_type": "code",
      "source": [
        "# More examples\n",
        "\n",
        "sentence_pairs = [\n",
        "    (\"Daily Routines\", \"I drink coffee every morning\", \"Each day I have coffee at breakfast\"),\n",
        "    (\"Weather\", \"The weather is extremely cold today\", \"It's freezing outside right now\"),\n",
        "    (\"Cooking\", \"She's cooking dinner\", \"He's preparing breakfast\"),\n",
        "    (\"Unrelated\", \"The cat is sleeping on the sofa\", \"The quarterly report is due tomorrow\"),\n",
        "    (\"Garden\", \"The garden needs more water\", \"Python is a programming language\"),\n",
        "    (\"Opposites\", \"The project was a huge success\", \"The project failed completely\"),\n",
        "]\n",
        "\n",
        "# Calculate and display similarities\n",
        "for topic, sentence1, sentence2 in sentence_pairs:\n",
        "    embedding1 = embed_model.get_text_embedding(sentence1)\n",
        "    embedding2 = embed_model.get_text_embedding(sentence2)\n",
        "\n",
        "    cosine_sim = np.dot(embedding1, embedding2) / (np.linalg.norm(embedding1) * np.linalg.norm(embedding2))\n",
        "\n",
        "    print(f\"{topic}: {cosine_sim:.3f}\")\n",
        "    print(f\"  '{sentence1}'\")\n",
        "    print(f\"  '{sentence2}'\")\n",
        "    print()"
      ],
      "metadata": {
        "id": "KbsYvz3Rlljw",
        "outputId": "34df9683-13d9-483f-a115-14a65ff41371",
        "colab": {
          "base_uri": "https://localhost:8080/"
        }
      },
      "id": "KbsYvz3Rlljw",
      "execution_count": 9,
      "outputs": [
        {
          "output_type": "stream",
          "name": "stdout",
          "text": [
            "Daily Routines: 0.953\n",
            "  'I drink coffee every morning'\n",
            "  'Each day I have coffee at breakfast'\n",
            "\n",
            "Weather: 0.916\n",
            "  'The weather is extremely cold today'\n",
            "  'It's freezing outside right now'\n",
            "\n",
            "Cooking: 0.892\n",
            "  'She's cooking dinner'\n",
            "  'He's preparing breakfast'\n",
            "\n",
            "Unrelated: 0.597\n",
            "  'The cat is sleeping on the sofa'\n",
            "  'The quarterly report is due tomorrow'\n",
            "\n",
            "Garden: 0.575\n",
            "  'The garden needs more water'\n",
            "  'Python is a programming language'\n",
            "\n",
            "Opposites: 0.877\n",
            "  'The project was a huge success'\n",
            "  'The project failed completely'\n",
            "\n"
          ]
        }
      ]
    },
    {
      "cell_type": "markdown",
      "source": [
        "### Read in the data"
      ],
      "metadata": {
        "id": "WE77lcSNaIK6"
      },
      "id": "WE77lcSNaIK6"
    },
    {
      "cell_type": "code",
      "source": [
        "import json\n",
        "docs = SimpleDirectoryReader(input_dir=\"./data/paul_graham/\").load_data()\n",
        "for doc in docs:\n",
        "  print(f\"id: {doc.doc_id}\")\n",
        "  print(f\"metadata: {json.dumps(doc.metadata, indent=4)}\")\n",
        "  print(f\"text:\\n{doc.text[:150]}...\") # Show the first 150 characters of the actual text in the doc"
      ],
      "metadata": {
        "colab": {
          "base_uri": "https://localhost:8080/"
        },
        "id": "S1EVJA8qaFTF",
        "outputId": "f5f4c6e0-123e-4f2d-f984-93c5d5b45e85"
      },
      "id": "S1EVJA8qaFTF",
      "execution_count": 12,
      "outputs": [
        {
          "output_type": "stream",
          "name": "stdout",
          "text": [
            "id: a171a56d-d892-4815-bd1d-8cc2d27e0a81\n",
            "metadata: {\n",
            "    \"file_path\": \"/content/data/paul_graham/paul_graham_essay.txt\",\n",
            "    \"file_name\": \"paul_graham_essay.txt\",\n",
            "    \"file_type\": \"text/plain\",\n",
            "    \"file_size\": 75042,\n",
            "    \"creation_date\": \"2025-05-12\",\n",
            "    \"last_modified_date\": \"2025-05-12\"\n",
            "}\n",
            "text:\n",
            "\n",
            "\n",
            "What I Worked On\n",
            "\n",
            "February 2021\n",
            "\n",
            "Before college the two main things I worked on, outside of school, were writing and programming. I didn't write ess...\n"
          ]
        }
      ]
    },
    {
      "cell_type": "markdown",
      "source": [
        "### Create embeddings of the data and create a vector store\n"
      ],
      "metadata": {
        "id": "c0N4IZa6aSGG"
      },
      "id": "c0N4IZa6aSGG"
    },
    {
      "cell_type": "code",
      "source": [
        "index = VectorStoreIndex.from_documents(docs, show_progress=True, embed_model=embed_model)"
      ],
      "metadata": {
        "colab": {
          "base_uri": "https://localhost:8080/",
          "height": 81,
          "referenced_widgets": [
            "9cc572db03ad49cc8a3dae7fb8bf6fb1",
            "7c7e9b683b8840508fb98e59a3cdc89e",
            "6354aaa3a3104bb1a3d37970fd0b3763",
            "da678afc900b4084a65edabc071c6cc1",
            "20d3e3cf0b6847a7ac52f10053fdab95",
            "56fb34abf52d47f3b1ed81a943c57470",
            "819434b0075c4382b078238ff6fa75e7",
            "71c5d435ddd44dd6b54089daa340b568",
            "2121ed763d174273ba2527c9975e215c",
            "33832d06ccf746ec90f59e3f2a8c50fd",
            "7219920e800144d7a2267f5c544a08d1",
            "4021ac9ba60d41139e0f85fa7317195a",
            "8dbfd48f04314433b4000d0d26992b17",
            "88d05528b1b74249b3cce19ac76faa21",
            "b80bf2c41b844a049fd09c67980ddce7",
            "003171948d2f488daca477000e1d7da6",
            "c7f9ccf3bb5a402387f44b31a9262a57",
            "74e2ea8271c14961857e4005be4c94de",
            "d5a241c3cbfd4e5ba08a17b8d6e60fea",
            "e8caafac62834f9bbdf4e847d22d7155",
            "dd76c920cd984985a39e5ff5a1e855dc",
            "bca0dc81df09435e9c66b1135cb728b6"
          ]
        },
        "id": "5bc_CQDGad8v",
        "outputId": "ecd124b3-1405-4f3b-d0f5-6b90e8e4c957"
      },
      "id": "5bc_CQDGad8v",
      "execution_count": 14,
      "outputs": [
        {
          "output_type": "display_data",
          "data": {
            "text/plain": [
              "Parsing nodes:   0%|          | 0/1 [00:00<?, ?it/s]"
            ],
            "application/vnd.jupyter.widget-view+json": {
              "version_major": 2,
              "version_minor": 0,
              "model_id": "9cc572db03ad49cc8a3dae7fb8bf6fb1"
            }
          },
          "metadata": {}
        },
        {
          "output_type": "display_data",
          "data": {
            "text/plain": [
              "Generating embeddings:   0%|          | 0/22 [00:00<?, ?it/s]"
            ],
            "application/vnd.jupyter.widget-view+json": {
              "version_major": 2,
              "version_minor": 0,
              "model_id": "4021ac9ba60d41139e0f85fa7317195a"
            }
          },
          "metadata": {}
        }
      ]
    },
    {
      "cell_type": "markdown",
      "id": "0df6a939-9f2c-44cc-ad9d-8203029e8fbd",
      "metadata": {
        "id": "0df6a939-9f2c-44cc-ad9d-8203029e8fbd"
      },
      "source": [
        "Configure chat engine"
      ]
    },
    {
      "cell_type": "code",
      "execution_count": 15,
      "id": "05eb7917-998c-4c36-b41a-84d29d3468c9",
      "metadata": {
        "id": "05eb7917-998c-4c36-b41a-84d29d3468c9"
      },
      "outputs": [],
      "source": [
        "chat_engine = index.as_chat_engine(chat_mode=\"react\", llm=llm, verbose=True)"
      ]
    },
    {
      "cell_type": "markdown",
      "id": "4bbfb7bb-827d-4968-b3ae-7c9f92224e8c",
      "metadata": {
        "id": "4bbfb7bb-827d-4968-b3ae-7c9f92224e8c"
      },
      "source": [
        "Chat with your data"
      ]
    },
    {
      "cell_type": "code",
      "execution_count": 16,
      "id": "0a618731-2f1f-4379-8dac-6dc3564961c1",
      "metadata": {
        "colab": {
          "base_uri": "https://localhost:8080/"
        },
        "id": "0a618731-2f1f-4379-8dac-6dc3564961c1",
        "outputId": "9a5350ec-ea60-428b-b5aa-f5b700c2d297"
      },
      "outputs": [
        {
          "output_type": "stream",
          "name": "stdout",
          "text": [
            "> Running step 7a58e7a2-9a12-463b-bf09-fb0f8045f616. Step input: Use the tool to answer what did Paul Graham do in the summer of 1995?\n",
            "\u001b[1;3;38;5;200mThought: The current language of the user is: English. I need to use a tool to help me answer the question.\n",
            "Action: query_engine_tool\n",
            "Action Input: {'input': 'What did Paul Graham do in the summer of 1995?'}\n",
            "\u001b[0m\u001b[1;3;34mObservation: In the summer of 1995, Paul Graham and Robert started trying to write software to build online stores.\n",
            "\u001b[0m> Running step 1e2f3e22-7a20-4be2-aef6-74c28e99306d. Step input: None\n",
            "\u001b[1;3;38;5;200mThought: I can answer without using any more tools. I'll use the user's language to answer\n",
            "Answer: In the summer of 1995, Paul Graham and Robert started trying to write software to build online stores.\n",
            "\u001b[0m"
          ]
        }
      ],
      "source": [
        "response = chat_engine.chat(\n",
        "    \"Use the tool to answer what did Paul Graham do in the summer of 1995?\"\n",
        ")"
      ]
    },
    {
      "cell_type": "code",
      "execution_count": null,
      "id": "a7c5c258-397d-47f2-87d3-7c1e62138211",
      "metadata": {
        "id": "a7c5c258-397d-47f2-87d3-7c1e62138211"
      },
      "outputs": [],
      "source": [
        "print(response)"
      ]
    },
    {
      "cell_type": "code",
      "execution_count": null,
      "id": "48d8f1c6-ad3e-49fa-b365-a7404cc25f96",
      "metadata": {
        "id": "48d8f1c6-ad3e-49fa-b365-a7404cc25f96"
      },
      "outputs": [],
      "source": [
        "response = chat_engine.chat(\"What did I ask you before?\")"
      ]
    },
    {
      "cell_type": "code",
      "execution_count": null,
      "id": "1d5c0588-ed90-4930-92d8-89d8830b120c",
      "metadata": {
        "id": "1d5c0588-ed90-4930-92d8-89d8830b120c"
      },
      "outputs": [],
      "source": [
        "print(response)"
      ]
    },
    {
      "cell_type": "markdown",
      "id": "42c4a975-8034-447f-a5fe-1e71e59f02c0",
      "metadata": {
        "id": "42c4a975-8034-447f-a5fe-1e71e59f02c0"
      },
      "source": [
        "Reset chat engine"
      ]
    },
    {
      "cell_type": "code",
      "execution_count": null,
      "id": "c1326c7a-8056-47b9-924d-4a836a501312",
      "metadata": {
        "id": "c1326c7a-8056-47b9-924d-4a836a501312"
      },
      "outputs": [],
      "source": [
        "chat_engine.reset()"
      ]
    },
    {
      "cell_type": "code",
      "execution_count": null,
      "id": "365074a3-b9b3-4b73-a5a1-230267379175",
      "metadata": {
        "id": "365074a3-b9b3-4b73-a5a1-230267379175"
      },
      "outputs": [],
      "source": [
        "response = chat_engine.chat(\"What did I ask you before?\")"
      ]
    },
    {
      "cell_type": "code",
      "execution_count": null,
      "id": "37a387f8-4b90-4a73-9ffc-3960e6dbac5b",
      "metadata": {
        "id": "37a387f8-4b90-4a73-9ffc-3960e6dbac5b"
      },
      "outputs": [],
      "source": [
        "print(response)"
      ]
    }
  ],
  "metadata": {
    "kernelspec": {
      "display_name": "Python 3 (ipykernel)",
      "language": "python",
      "name": "python3"
    },
    "language_info": {
      "codemirror_mode": {
        "name": "ipython",
        "version": 3
      },
      "file_extension": ".py",
      "mimetype": "text/x-python",
      "name": "python",
      "nbconvert_exporter": "python",
      "pygments_lexer": "ipython3"
    },
    "colab": {
      "provenance": []
    },
    "widgets": {
      "application/vnd.jupyter.widget-state+json": {
        "9cc572db03ad49cc8a3dae7fb8bf6fb1": {
          "model_module": "@jupyter-widgets/controls",
          "model_name": "HBoxModel",
          "model_module_version": "1.5.0",
          "state": {
            "_dom_classes": [],
            "_model_module": "@jupyter-widgets/controls",
            "_model_module_version": "1.5.0",
            "_model_name": "HBoxModel",
            "_view_count": null,
            "_view_module": "@jupyter-widgets/controls",
            "_view_module_version": "1.5.0",
            "_view_name": "HBoxView",
            "box_style": "",
            "children": [
              "IPY_MODEL_7c7e9b683b8840508fb98e59a3cdc89e",
              "IPY_MODEL_6354aaa3a3104bb1a3d37970fd0b3763",
              "IPY_MODEL_da678afc900b4084a65edabc071c6cc1"
            ],
            "layout": "IPY_MODEL_20d3e3cf0b6847a7ac52f10053fdab95"
          }
        },
        "7c7e9b683b8840508fb98e59a3cdc89e": {
          "model_module": "@jupyter-widgets/controls",
          "model_name": "HTMLModel",
          "model_module_version": "1.5.0",
          "state": {
            "_dom_classes": [],
            "_model_module": "@jupyter-widgets/controls",
            "_model_module_version": "1.5.0",
            "_model_name": "HTMLModel",
            "_view_count": null,
            "_view_module": "@jupyter-widgets/controls",
            "_view_module_version": "1.5.0",
            "_view_name": "HTMLView",
            "description": "",
            "description_tooltip": null,
            "layout": "IPY_MODEL_56fb34abf52d47f3b1ed81a943c57470",
            "placeholder": "​",
            "style": "IPY_MODEL_819434b0075c4382b078238ff6fa75e7",
            "value": "Parsing nodes: 100%"
          }
        },
        "6354aaa3a3104bb1a3d37970fd0b3763": {
          "model_module": "@jupyter-widgets/controls",
          "model_name": "FloatProgressModel",
          "model_module_version": "1.5.0",
          "state": {
            "_dom_classes": [],
            "_model_module": "@jupyter-widgets/controls",
            "_model_module_version": "1.5.0",
            "_model_name": "FloatProgressModel",
            "_view_count": null,
            "_view_module": "@jupyter-widgets/controls",
            "_view_module_version": "1.5.0",
            "_view_name": "ProgressView",
            "bar_style": "success",
            "description": "",
            "description_tooltip": null,
            "layout": "IPY_MODEL_71c5d435ddd44dd6b54089daa340b568",
            "max": 1,
            "min": 0,
            "orientation": "horizontal",
            "style": "IPY_MODEL_2121ed763d174273ba2527c9975e215c",
            "value": 1
          }
        },
        "da678afc900b4084a65edabc071c6cc1": {
          "model_module": "@jupyter-widgets/controls",
          "model_name": "HTMLModel",
          "model_module_version": "1.5.0",
          "state": {
            "_dom_classes": [],
            "_model_module": "@jupyter-widgets/controls",
            "_model_module_version": "1.5.0",
            "_model_name": "HTMLModel",
            "_view_count": null,
            "_view_module": "@jupyter-widgets/controls",
            "_view_module_version": "1.5.0",
            "_view_name": "HTMLView",
            "description": "",
            "description_tooltip": null,
            "layout": "IPY_MODEL_33832d06ccf746ec90f59e3f2a8c50fd",
            "placeholder": "​",
            "style": "IPY_MODEL_7219920e800144d7a2267f5c544a08d1",
            "value": " 1/1 [00:05&lt;00:00,  5.45s/it]"
          }
        },
        "20d3e3cf0b6847a7ac52f10053fdab95": {
          "model_module": "@jupyter-widgets/base",
          "model_name": "LayoutModel",
          "model_module_version": "1.2.0",
          "state": {
            "_model_module": "@jupyter-widgets/base",
            "_model_module_version": "1.2.0",
            "_model_name": "LayoutModel",
            "_view_count": null,
            "_view_module": "@jupyter-widgets/base",
            "_view_module_version": "1.2.0",
            "_view_name": "LayoutView",
            "align_content": null,
            "align_items": null,
            "align_self": null,
            "border": null,
            "bottom": null,
            "display": null,
            "flex": null,
            "flex_flow": null,
            "grid_area": null,
            "grid_auto_columns": null,
            "grid_auto_flow": null,
            "grid_auto_rows": null,
            "grid_column": null,
            "grid_gap": null,
            "grid_row": null,
            "grid_template_areas": null,
            "grid_template_columns": null,
            "grid_template_rows": null,
            "height": null,
            "justify_content": null,
            "justify_items": null,
            "left": null,
            "margin": null,
            "max_height": null,
            "max_width": null,
            "min_height": null,
            "min_width": null,
            "object_fit": null,
            "object_position": null,
            "order": null,
            "overflow": null,
            "overflow_x": null,
            "overflow_y": null,
            "padding": null,
            "right": null,
            "top": null,
            "visibility": null,
            "width": null
          }
        },
        "56fb34abf52d47f3b1ed81a943c57470": {
          "model_module": "@jupyter-widgets/base",
          "model_name": "LayoutModel",
          "model_module_version": "1.2.0",
          "state": {
            "_model_module": "@jupyter-widgets/base",
            "_model_module_version": "1.2.0",
            "_model_name": "LayoutModel",
            "_view_count": null,
            "_view_module": "@jupyter-widgets/base",
            "_view_module_version": "1.2.0",
            "_view_name": "LayoutView",
            "align_content": null,
            "align_items": null,
            "align_self": null,
            "border": null,
            "bottom": null,
            "display": null,
            "flex": null,
            "flex_flow": null,
            "grid_area": null,
            "grid_auto_columns": null,
            "grid_auto_flow": null,
            "grid_auto_rows": null,
            "grid_column": null,
            "grid_gap": null,
            "grid_row": null,
            "grid_template_areas": null,
            "grid_template_columns": null,
            "grid_template_rows": null,
            "height": null,
            "justify_content": null,
            "justify_items": null,
            "left": null,
            "margin": null,
            "max_height": null,
            "max_width": null,
            "min_height": null,
            "min_width": null,
            "object_fit": null,
            "object_position": null,
            "order": null,
            "overflow": null,
            "overflow_x": null,
            "overflow_y": null,
            "padding": null,
            "right": null,
            "top": null,
            "visibility": null,
            "width": null
          }
        },
        "819434b0075c4382b078238ff6fa75e7": {
          "model_module": "@jupyter-widgets/controls",
          "model_name": "DescriptionStyleModel",
          "model_module_version": "1.5.0",
          "state": {
            "_model_module": "@jupyter-widgets/controls",
            "_model_module_version": "1.5.0",
            "_model_name": "DescriptionStyleModel",
            "_view_count": null,
            "_view_module": "@jupyter-widgets/base",
            "_view_module_version": "1.2.0",
            "_view_name": "StyleView",
            "description_width": ""
          }
        },
        "71c5d435ddd44dd6b54089daa340b568": {
          "model_module": "@jupyter-widgets/base",
          "model_name": "LayoutModel",
          "model_module_version": "1.2.0",
          "state": {
            "_model_module": "@jupyter-widgets/base",
            "_model_module_version": "1.2.0",
            "_model_name": "LayoutModel",
            "_view_count": null,
            "_view_module": "@jupyter-widgets/base",
            "_view_module_version": "1.2.0",
            "_view_name": "LayoutView",
            "align_content": null,
            "align_items": null,
            "align_self": null,
            "border": null,
            "bottom": null,
            "display": null,
            "flex": null,
            "flex_flow": null,
            "grid_area": null,
            "grid_auto_columns": null,
            "grid_auto_flow": null,
            "grid_auto_rows": null,
            "grid_column": null,
            "grid_gap": null,
            "grid_row": null,
            "grid_template_areas": null,
            "grid_template_columns": null,
            "grid_template_rows": null,
            "height": null,
            "justify_content": null,
            "justify_items": null,
            "left": null,
            "margin": null,
            "max_height": null,
            "max_width": null,
            "min_height": null,
            "min_width": null,
            "object_fit": null,
            "object_position": null,
            "order": null,
            "overflow": null,
            "overflow_x": null,
            "overflow_y": null,
            "padding": null,
            "right": null,
            "top": null,
            "visibility": null,
            "width": null
          }
        },
        "2121ed763d174273ba2527c9975e215c": {
          "model_module": "@jupyter-widgets/controls",
          "model_name": "ProgressStyleModel",
          "model_module_version": "1.5.0",
          "state": {
            "_model_module": "@jupyter-widgets/controls",
            "_model_module_version": "1.5.0",
            "_model_name": "ProgressStyleModel",
            "_view_count": null,
            "_view_module": "@jupyter-widgets/base",
            "_view_module_version": "1.2.0",
            "_view_name": "StyleView",
            "bar_color": null,
            "description_width": ""
          }
        },
        "33832d06ccf746ec90f59e3f2a8c50fd": {
          "model_module": "@jupyter-widgets/base",
          "model_name": "LayoutModel",
          "model_module_version": "1.2.0",
          "state": {
            "_model_module": "@jupyter-widgets/base",
            "_model_module_version": "1.2.0",
            "_model_name": "LayoutModel",
            "_view_count": null,
            "_view_module": "@jupyter-widgets/base",
            "_view_module_version": "1.2.0",
            "_view_name": "LayoutView",
            "align_content": null,
            "align_items": null,
            "align_self": null,
            "border": null,
            "bottom": null,
            "display": null,
            "flex": null,
            "flex_flow": null,
            "grid_area": null,
            "grid_auto_columns": null,
            "grid_auto_flow": null,
            "grid_auto_rows": null,
            "grid_column": null,
            "grid_gap": null,
            "grid_row": null,
            "grid_template_areas": null,
            "grid_template_columns": null,
            "grid_template_rows": null,
            "height": null,
            "justify_content": null,
            "justify_items": null,
            "left": null,
            "margin": null,
            "max_height": null,
            "max_width": null,
            "min_height": null,
            "min_width": null,
            "object_fit": null,
            "object_position": null,
            "order": null,
            "overflow": null,
            "overflow_x": null,
            "overflow_y": null,
            "padding": null,
            "right": null,
            "top": null,
            "visibility": null,
            "width": null
          }
        },
        "7219920e800144d7a2267f5c544a08d1": {
          "model_module": "@jupyter-widgets/controls",
          "model_name": "DescriptionStyleModel",
          "model_module_version": "1.5.0",
          "state": {
            "_model_module": "@jupyter-widgets/controls",
            "_model_module_version": "1.5.0",
            "_model_name": "DescriptionStyleModel",
            "_view_count": null,
            "_view_module": "@jupyter-widgets/base",
            "_view_module_version": "1.2.0",
            "_view_name": "StyleView",
            "description_width": ""
          }
        },
        "4021ac9ba60d41139e0f85fa7317195a": {
          "model_module": "@jupyter-widgets/controls",
          "model_name": "HBoxModel",
          "model_module_version": "1.5.0",
          "state": {
            "_dom_classes": [],
            "_model_module": "@jupyter-widgets/controls",
            "_model_module_version": "1.5.0",
            "_model_name": "HBoxModel",
            "_view_count": null,
            "_view_module": "@jupyter-widgets/controls",
            "_view_module_version": "1.5.0",
            "_view_name": "HBoxView",
            "box_style": "",
            "children": [
              "IPY_MODEL_8dbfd48f04314433b4000d0d26992b17",
              "IPY_MODEL_88d05528b1b74249b3cce19ac76faa21",
              "IPY_MODEL_b80bf2c41b844a049fd09c67980ddce7"
            ],
            "layout": "IPY_MODEL_003171948d2f488daca477000e1d7da6"
          }
        },
        "8dbfd48f04314433b4000d0d26992b17": {
          "model_module": "@jupyter-widgets/controls",
          "model_name": "HTMLModel",
          "model_module_version": "1.5.0",
          "state": {
            "_dom_classes": [],
            "_model_module": "@jupyter-widgets/controls",
            "_model_module_version": "1.5.0",
            "_model_name": "HTMLModel",
            "_view_count": null,
            "_view_module": "@jupyter-widgets/controls",
            "_view_module_version": "1.5.0",
            "_view_name": "HTMLView",
            "description": "",
            "description_tooltip": null,
            "layout": "IPY_MODEL_c7f9ccf3bb5a402387f44b31a9262a57",
            "placeholder": "​",
            "style": "IPY_MODEL_74e2ea8271c14961857e4005be4c94de",
            "value": "Generating embeddings: 100%"
          }
        },
        "88d05528b1b74249b3cce19ac76faa21": {
          "model_module": "@jupyter-widgets/controls",
          "model_name": "FloatProgressModel",
          "model_module_version": "1.5.0",
          "state": {
            "_dom_classes": [],
            "_model_module": "@jupyter-widgets/controls",
            "_model_module_version": "1.5.0",
            "_model_name": "FloatProgressModel",
            "_view_count": null,
            "_view_module": "@jupyter-widgets/controls",
            "_view_module_version": "1.5.0",
            "_view_name": "ProgressView",
            "bar_style": "success",
            "description": "",
            "description_tooltip": null,
            "layout": "IPY_MODEL_d5a241c3cbfd4e5ba08a17b8d6e60fea",
            "max": 22,
            "min": 0,
            "orientation": "horizontal",
            "style": "IPY_MODEL_e8caafac62834f9bbdf4e847d22d7155",
            "value": 22
          }
        },
        "b80bf2c41b844a049fd09c67980ddce7": {
          "model_module": "@jupyter-widgets/controls",
          "model_name": "HTMLModel",
          "model_module_version": "1.5.0",
          "state": {
            "_dom_classes": [],
            "_model_module": "@jupyter-widgets/controls",
            "_model_module_version": "1.5.0",
            "_model_name": "HTMLModel",
            "_view_count": null,
            "_view_module": "@jupyter-widgets/controls",
            "_view_module_version": "1.5.0",
            "_view_name": "HTMLView",
            "description": "",
            "description_tooltip": null,
            "layout": "IPY_MODEL_dd76c920cd984985a39e5ff5a1e855dc",
            "placeholder": "​",
            "style": "IPY_MODEL_bca0dc81df09435e9c66b1135cb728b6",
            "value": " 22/22 [00:02&lt;00:00,  8.18it/s]"
          }
        },
        "003171948d2f488daca477000e1d7da6": {
          "model_module": "@jupyter-widgets/base",
          "model_name": "LayoutModel",
          "model_module_version": "1.2.0",
          "state": {
            "_model_module": "@jupyter-widgets/base",
            "_model_module_version": "1.2.0",
            "_model_name": "LayoutModel",
            "_view_count": null,
            "_view_module": "@jupyter-widgets/base",
            "_view_module_version": "1.2.0",
            "_view_name": "LayoutView",
            "align_content": null,
            "align_items": null,
            "align_self": null,
            "border": null,
            "bottom": null,
            "display": null,
            "flex": null,
            "flex_flow": null,
            "grid_area": null,
            "grid_auto_columns": null,
            "grid_auto_flow": null,
            "grid_auto_rows": null,
            "grid_column": null,
            "grid_gap": null,
            "grid_row": null,
            "grid_template_areas": null,
            "grid_template_columns": null,
            "grid_template_rows": null,
            "height": null,
            "justify_content": null,
            "justify_items": null,
            "left": null,
            "margin": null,
            "max_height": null,
            "max_width": null,
            "min_height": null,
            "min_width": null,
            "object_fit": null,
            "object_position": null,
            "order": null,
            "overflow": null,
            "overflow_x": null,
            "overflow_y": null,
            "padding": null,
            "right": null,
            "top": null,
            "visibility": null,
            "width": null
          }
        },
        "c7f9ccf3bb5a402387f44b31a9262a57": {
          "model_module": "@jupyter-widgets/base",
          "model_name": "LayoutModel",
          "model_module_version": "1.2.0",
          "state": {
            "_model_module": "@jupyter-widgets/base",
            "_model_module_version": "1.2.0",
            "_model_name": "LayoutModel",
            "_view_count": null,
            "_view_module": "@jupyter-widgets/base",
            "_view_module_version": "1.2.0",
            "_view_name": "LayoutView",
            "align_content": null,
            "align_items": null,
            "align_self": null,
            "border": null,
            "bottom": null,
            "display": null,
            "flex": null,
            "flex_flow": null,
            "grid_area": null,
            "grid_auto_columns": null,
            "grid_auto_flow": null,
            "grid_auto_rows": null,
            "grid_column": null,
            "grid_gap": null,
            "grid_row": null,
            "grid_template_areas": null,
            "grid_template_columns": null,
            "grid_template_rows": null,
            "height": null,
            "justify_content": null,
            "justify_items": null,
            "left": null,
            "margin": null,
            "max_height": null,
            "max_width": null,
            "min_height": null,
            "min_width": null,
            "object_fit": null,
            "object_position": null,
            "order": null,
            "overflow": null,
            "overflow_x": null,
            "overflow_y": null,
            "padding": null,
            "right": null,
            "top": null,
            "visibility": null,
            "width": null
          }
        },
        "74e2ea8271c14961857e4005be4c94de": {
          "model_module": "@jupyter-widgets/controls",
          "model_name": "DescriptionStyleModel",
          "model_module_version": "1.5.0",
          "state": {
            "_model_module": "@jupyter-widgets/controls",
            "_model_module_version": "1.5.0",
            "_model_name": "DescriptionStyleModel",
            "_view_count": null,
            "_view_module": "@jupyter-widgets/base",
            "_view_module_version": "1.2.0",
            "_view_name": "StyleView",
            "description_width": ""
          }
        },
        "d5a241c3cbfd4e5ba08a17b8d6e60fea": {
          "model_module": "@jupyter-widgets/base",
          "model_name": "LayoutModel",
          "model_module_version": "1.2.0",
          "state": {
            "_model_module": "@jupyter-widgets/base",
            "_model_module_version": "1.2.0",
            "_model_name": "LayoutModel",
            "_view_count": null,
            "_view_module": "@jupyter-widgets/base",
            "_view_module_version": "1.2.0",
            "_view_name": "LayoutView",
            "align_content": null,
            "align_items": null,
            "align_self": null,
            "border": null,
            "bottom": null,
            "display": null,
            "flex": null,
            "flex_flow": null,
            "grid_area": null,
            "grid_auto_columns": null,
            "grid_auto_flow": null,
            "grid_auto_rows": null,
            "grid_column": null,
            "grid_gap": null,
            "grid_row": null,
            "grid_template_areas": null,
            "grid_template_columns": null,
            "grid_template_rows": null,
            "height": null,
            "justify_content": null,
            "justify_items": null,
            "left": null,
            "margin": null,
            "max_height": null,
            "max_width": null,
            "min_height": null,
            "min_width": null,
            "object_fit": null,
            "object_position": null,
            "order": null,
            "overflow": null,
            "overflow_x": null,
            "overflow_y": null,
            "padding": null,
            "right": null,
            "top": null,
            "visibility": null,
            "width": null
          }
        },
        "e8caafac62834f9bbdf4e847d22d7155": {
          "model_module": "@jupyter-widgets/controls",
          "model_name": "ProgressStyleModel",
          "model_module_version": "1.5.0",
          "state": {
            "_model_module": "@jupyter-widgets/controls",
            "_model_module_version": "1.5.0",
            "_model_name": "ProgressStyleModel",
            "_view_count": null,
            "_view_module": "@jupyter-widgets/base",
            "_view_module_version": "1.2.0",
            "_view_name": "StyleView",
            "bar_color": null,
            "description_width": ""
          }
        },
        "dd76c920cd984985a39e5ff5a1e855dc": {
          "model_module": "@jupyter-widgets/base",
          "model_name": "LayoutModel",
          "model_module_version": "1.2.0",
          "state": {
            "_model_module": "@jupyter-widgets/base",
            "_model_module_version": "1.2.0",
            "_model_name": "LayoutModel",
            "_view_count": null,
            "_view_module": "@jupyter-widgets/base",
            "_view_module_version": "1.2.0",
            "_view_name": "LayoutView",
            "align_content": null,
            "align_items": null,
            "align_self": null,
            "border": null,
            "bottom": null,
            "display": null,
            "flex": null,
            "flex_flow": null,
            "grid_area": null,
            "grid_auto_columns": null,
            "grid_auto_flow": null,
            "grid_auto_rows": null,
            "grid_column": null,
            "grid_gap": null,
            "grid_row": null,
            "grid_template_areas": null,
            "grid_template_columns": null,
            "grid_template_rows": null,
            "height": null,
            "justify_content": null,
            "justify_items": null,
            "left": null,
            "margin": null,
            "max_height": null,
            "max_width": null,
            "min_height": null,
            "min_width": null,
            "object_fit": null,
            "object_position": null,
            "order": null,
            "overflow": null,
            "overflow_x": null,
            "overflow_y": null,
            "padding": null,
            "right": null,
            "top": null,
            "visibility": null,
            "width": null
          }
        },
        "bca0dc81df09435e9c66b1135cb728b6": {
          "model_module": "@jupyter-widgets/controls",
          "model_name": "DescriptionStyleModel",
          "model_module_version": "1.5.0",
          "state": {
            "_model_module": "@jupyter-widgets/controls",
            "_model_module_version": "1.5.0",
            "_model_name": "DescriptionStyleModel",
            "_view_count": null,
            "_view_module": "@jupyter-widgets/base",
            "_view_module_version": "1.2.0",
            "_view_name": "StyleView",
            "description_width": ""
          }
        }
      }
    }
  },
  "nbformat": 4,
  "nbformat_minor": 5
}