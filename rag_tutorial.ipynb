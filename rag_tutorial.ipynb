{
  "cells": [
    {
      "cell_type": "markdown",
      "metadata": {
        "id": "GZpYUBWF_KYq"
      },
      "source": [
        "# Building a RAG System: Step by Step Tutorial\n",
        "\n",
        "This notebook demonstrates how to build a Retrieval Augmented Generation (RAG) system using LlamaIndex. We'll break down each component to understand how RAG works.\n",
        "\n",
        "## What is RAG?\n",
        "RAG (Retrieval Augmented Generation) is a technique that enhances Large Language Models by:\n",
        "1. Storing domain-specific knowledge in a vector database\n",
        "2. Retrieving relevant information when needed\n",
        "3. Using that information to generate more accurate and contextual responses\n",
        "\n",
        "Let's build one step by step!"
      ]
    },
    {
      "cell_type": "markdown",
      "metadata": {
        "id": "cvLQQfFM_KYs"
      },
      "source": [
        "## Step 1: Setup and Installation\n",
        "\n",
        "First, let's install the required packages:"
      ]
    },
    {
      "cell_type": "code",
      "execution_count": 1,
      "metadata": {
        "colab": {
          "base_uri": "https://localhost:8080/"
        },
        "collapsed": true,
        "id": "zGBc0Oj6_KYs",
        "outputId": "45f08dac-3c91-4273-bc76-fddafa8585e9"
      },
      "outputs": [
        {
          "output_type": "stream",
          "name": "stdout",
          "text": [
            "Requirement already satisfied: llama-index-core in /usr/local/lib/python3.11/dist-packages (0.12.35)\n",
            "Requirement already satisfied: google-ai-generativelanguage in /usr/local/lib/python3.11/dist-packages (0.6.18)\n",
            "Requirement already satisfied: llama-index-readers-file in /usr/local/lib/python3.11/dist-packages (0.4.7)\n",
            "Requirement already satisfied: llama-index-llms-langchain in /usr/local/lib/python3.11/dist-packages (0.6.1)\n",
            "Requirement already satisfied: llama-index-embeddings-langchain in /usr/local/lib/python3.11/dist-packages (0.3.0)\n",
            "Requirement already satisfied: langchain_community in /usr/local/lib/python3.11/dist-packages (0.3.23)\n",
            "Requirement already satisfied: langchain-google-genai in /usr/local/lib/python3.11/dist-packages (2.1.4)\n",
            "Requirement already satisfied: python-dotenv in /usr/local/lib/python3.11/dist-packages (1.1.0)\n",
            "Requirement already satisfied: requests in /usr/local/lib/python3.11/dist-packages (2.32.3)\n",
            "Requirement already satisfied: aiohttp<4,>=3.8.6 in /usr/local/lib/python3.11/dist-packages (from llama-index-core) (3.11.15)\n",
            "Requirement already satisfied: aiosqlite in /usr/local/lib/python3.11/dist-packages (from llama-index-core) (0.21.0)\n",
            "Requirement already satisfied: banks<3,>=2.0.0 in /usr/local/lib/python3.11/dist-packages (from llama-index-core) (2.1.2)\n",
            "Requirement already satisfied: dataclasses-json in /usr/local/lib/python3.11/dist-packages (from llama-index-core) (0.6.7)\n",
            "Requirement already satisfied: deprecated>=1.2.9.3 in /usr/local/lib/python3.11/dist-packages (from llama-index-core) (1.2.18)\n",
            "Requirement already satisfied: dirtyjson<2,>=1.0.8 in /usr/local/lib/python3.11/dist-packages (from llama-index-core) (1.0.8)\n",
            "Requirement already satisfied: filetype<2,>=1.2.0 in /usr/local/lib/python3.11/dist-packages (from llama-index-core) (1.2.0)\n",
            "Requirement already satisfied: fsspec>=2023.5.0 in /usr/local/lib/python3.11/dist-packages (from llama-index-core) (2025.3.2)\n",
            "Requirement already satisfied: httpx in /usr/local/lib/python3.11/dist-packages (from llama-index-core) (0.28.1)\n",
            "Requirement already satisfied: nest-asyncio<2,>=1.5.8 in /usr/local/lib/python3.11/dist-packages (from llama-index-core) (1.6.0)\n",
            "Requirement already satisfied: networkx>=3.0 in /usr/local/lib/python3.11/dist-packages (from llama-index-core) (3.4.2)\n",
            "Requirement already satisfied: nltk>3.8.1 in /usr/local/lib/python3.11/dist-packages (from llama-index-core) (3.9.1)\n",
            "Requirement already satisfied: numpy in /usr/local/lib/python3.11/dist-packages (from llama-index-core) (2.0.2)\n",
            "Requirement already satisfied: pillow>=9.0.0 in /usr/local/lib/python3.11/dist-packages (from llama-index-core) (11.2.1)\n",
            "Requirement already satisfied: pydantic>=2.8.0 in /usr/local/lib/python3.11/dist-packages (from llama-index-core) (2.11.4)\n",
            "Requirement already satisfied: pyyaml>=6.0.1 in /usr/local/lib/python3.11/dist-packages (from llama-index-core) (6.0.2)\n",
            "Requirement already satisfied: sqlalchemy>=1.4.49 in /usr/local/lib/python3.11/dist-packages (from sqlalchemy[asyncio]>=1.4.49->llama-index-core) (2.0.40)\n",
            "Requirement already satisfied: tenacity!=8.4.0,<10.0.0,>=8.2.0 in /usr/local/lib/python3.11/dist-packages (from llama-index-core) (9.1.2)\n",
            "Requirement already satisfied: tiktoken>=0.7.0 in /usr/local/lib/python3.11/dist-packages (from llama-index-core) (0.9.0)\n",
            "Requirement already satisfied: tqdm<5,>=4.66.1 in /usr/local/lib/python3.11/dist-packages (from llama-index-core) (4.67.1)\n",
            "Requirement already satisfied: typing-extensions>=4.5.0 in /usr/local/lib/python3.11/dist-packages (from llama-index-core) (4.13.2)\n",
            "Requirement already satisfied: typing-inspect>=0.8.0 in /usr/local/lib/python3.11/dist-packages (from llama-index-core) (0.9.0)\n",
            "Requirement already satisfied: wrapt in /usr/local/lib/python3.11/dist-packages (from llama-index-core) (1.17.2)\n",
            "Requirement already satisfied: google-api-core!=2.0.*,!=2.1.*,!=2.10.*,!=2.2.*,!=2.3.*,!=2.4.*,!=2.5.*,!=2.6.*,!=2.7.*,!=2.8.*,!=2.9.*,<3.0.0,>=1.34.1 in /usr/local/lib/python3.11/dist-packages (from google-api-core[grpc]!=2.0.*,!=2.1.*,!=2.10.*,!=2.2.*,!=2.3.*,!=2.4.*,!=2.5.*,!=2.6.*,!=2.7.*,!=2.8.*,!=2.9.*,<3.0.0,>=1.34.1->google-ai-generativelanguage) (2.24.2)\n",
            "Requirement already satisfied: google-auth!=2.24.0,!=2.25.0,<3.0.0,>=2.14.1 in /usr/local/lib/python3.11/dist-packages (from google-ai-generativelanguage) (2.38.0)\n",
            "Requirement already satisfied: proto-plus<2.0.0,>=1.22.3 in /usr/local/lib/python3.11/dist-packages (from google-ai-generativelanguage) (1.26.1)\n",
            "Requirement already satisfied: protobuf!=4.21.0,!=4.21.1,!=4.21.2,!=4.21.3,!=4.21.4,!=4.21.5,<7.0.0,>=3.20.2 in /usr/local/lib/python3.11/dist-packages (from google-ai-generativelanguage) (5.29.4)\n",
            "Requirement already satisfied: beautifulsoup4<5.0.0,>=4.12.3 in /usr/local/lib/python3.11/dist-packages (from llama-index-readers-file) (4.13.4)\n",
            "Requirement already satisfied: pandas in /usr/local/lib/python3.11/dist-packages (from llama-index-readers-file) (2.2.2)\n",
            "Requirement already satisfied: pypdf<6.0.0,>=5.1.0 in /usr/local/lib/python3.11/dist-packages (from llama-index-readers-file) (5.4.0)\n",
            "Requirement already satisfied: striprtf<0.0.27,>=0.0.26 in /usr/local/lib/python3.11/dist-packages (from llama-index-readers-file) (0.0.26)\n",
            "Requirement already satisfied: langchain>=0.1.7 in /usr/local/lib/python3.11/dist-packages (from llama-index-llms-langchain) (0.3.24)\n",
            "Requirement already satisfied: langchain-core<1.0.0,>=0.3.56 in /usr/local/lib/python3.11/dist-packages (from langchain_community) (0.3.56)\n",
            "Requirement already satisfied: pydantic-settings<3.0.0,>=2.4.0 in /usr/local/lib/python3.11/dist-packages (from langchain_community) (2.9.1)\n",
            "Requirement already satisfied: langsmith<0.4,>=0.1.125 in /usr/local/lib/python3.11/dist-packages (from langchain_community) (0.3.39)\n",
            "Requirement already satisfied: httpx-sse<1.0.0,>=0.4.0 in /usr/local/lib/python3.11/dist-packages (from langchain_community) (0.4.0)\n",
            "Requirement already satisfied: charset-normalizer<4,>=2 in /usr/local/lib/python3.11/dist-packages (from requests) (3.4.1)\n",
            "Requirement already satisfied: idna<4,>=2.5 in /usr/local/lib/python3.11/dist-packages (from requests) (3.10)\n",
            "Requirement already satisfied: urllib3<3,>=1.21.1 in /usr/local/lib/python3.11/dist-packages (from requests) (2.4.0)\n",
            "Requirement already satisfied: certifi>=2017.4.17 in /usr/local/lib/python3.11/dist-packages (from requests) (2025.4.26)\n",
            "Requirement already satisfied: aiohappyeyeballs>=2.3.0 in /usr/local/lib/python3.11/dist-packages (from aiohttp<4,>=3.8.6->llama-index-core) (2.6.1)\n",
            "Requirement already satisfied: aiosignal>=1.1.2 in /usr/local/lib/python3.11/dist-packages (from aiohttp<4,>=3.8.6->llama-index-core) (1.3.2)\n",
            "Requirement already satisfied: attrs>=17.3.0 in /usr/local/lib/python3.11/dist-packages (from aiohttp<4,>=3.8.6->llama-index-core) (25.3.0)\n",
            "Requirement already satisfied: frozenlist>=1.1.1 in /usr/local/lib/python3.11/dist-packages (from aiohttp<4,>=3.8.6->llama-index-core) (1.6.0)\n",
            "Requirement already satisfied: multidict<7.0,>=4.5 in /usr/local/lib/python3.11/dist-packages (from aiohttp<4,>=3.8.6->llama-index-core) (6.4.3)\n",
            "Requirement already satisfied: propcache>=0.2.0 in /usr/local/lib/python3.11/dist-packages (from aiohttp<4,>=3.8.6->llama-index-core) (0.3.1)\n",
            "Requirement already satisfied: yarl<2.0,>=1.17.0 in /usr/local/lib/python3.11/dist-packages (from aiohttp<4,>=3.8.6->llama-index-core) (1.20.0)\n",
            "Requirement already satisfied: griffe in /usr/local/lib/python3.11/dist-packages (from banks<3,>=2.0.0->llama-index-core) (1.7.3)\n",
            "Requirement already satisfied: jinja2 in /usr/local/lib/python3.11/dist-packages (from banks<3,>=2.0.0->llama-index-core) (3.1.6)\n",
            "Requirement already satisfied: platformdirs in /usr/local/lib/python3.11/dist-packages (from banks<3,>=2.0.0->llama-index-core) (4.3.7)\n",
            "Requirement already satisfied: soupsieve>1.2 in /usr/local/lib/python3.11/dist-packages (from beautifulsoup4<5.0.0,>=4.12.3->llama-index-readers-file) (2.7)\n",
            "Requirement already satisfied: marshmallow<4.0.0,>=3.18.0 in /usr/local/lib/python3.11/dist-packages (from dataclasses-json->llama-index-core) (3.26.1)\n",
            "Requirement already satisfied: googleapis-common-protos<2.0.0,>=1.56.2 in /usr/local/lib/python3.11/dist-packages (from google-api-core!=2.0.*,!=2.1.*,!=2.10.*,!=2.2.*,!=2.3.*,!=2.4.*,!=2.5.*,!=2.6.*,!=2.7.*,!=2.8.*,!=2.9.*,<3.0.0,>=1.34.1->google-api-core[grpc]!=2.0.*,!=2.1.*,!=2.10.*,!=2.2.*,!=2.3.*,!=2.4.*,!=2.5.*,!=2.6.*,!=2.7.*,!=2.8.*,!=2.9.*,<3.0.0,>=1.34.1->google-ai-generativelanguage) (1.70.0)\n",
            "Requirement already satisfied: grpcio<2.0dev,>=1.33.2 in /usr/local/lib/python3.11/dist-packages (from google-api-core[grpc]!=2.0.*,!=2.1.*,!=2.10.*,!=2.2.*,!=2.3.*,!=2.4.*,!=2.5.*,!=2.6.*,!=2.7.*,!=2.8.*,!=2.9.*,<3.0.0,>=1.34.1->google-ai-generativelanguage) (1.71.0)\n",
            "Requirement already satisfied: grpcio-status<2.0.dev0,>=1.33.2 in /usr/local/lib/python3.11/dist-packages (from google-api-core[grpc]!=2.0.*,!=2.1.*,!=2.10.*,!=2.2.*,!=2.3.*,!=2.4.*,!=2.5.*,!=2.6.*,!=2.7.*,!=2.8.*,!=2.9.*,<3.0.0,>=1.34.1->google-ai-generativelanguage) (1.71.0)\n",
            "Requirement already satisfied: cachetools<6.0,>=2.0.0 in /usr/local/lib/python3.11/dist-packages (from google-auth!=2.24.0,!=2.25.0,<3.0.0,>=2.14.1->google-ai-generativelanguage) (5.5.2)\n",
            "Requirement already satisfied: pyasn1-modules>=0.2.1 in /usr/local/lib/python3.11/dist-packages (from google-auth!=2.24.0,!=2.25.0,<3.0.0,>=2.14.1->google-ai-generativelanguage) (0.4.2)\n",
            "Requirement already satisfied: rsa<5,>=3.1.4 in /usr/local/lib/python3.11/dist-packages (from google-auth!=2.24.0,!=2.25.0,<3.0.0,>=2.14.1->google-ai-generativelanguage) (4.9.1)\n",
            "Requirement already satisfied: langchain-text-splitters<1.0.0,>=0.3.8 in /usr/local/lib/python3.11/dist-packages (from langchain>=0.1.7->llama-index-llms-langchain) (0.3.8)\n",
            "Requirement already satisfied: jsonpatch<2.0,>=1.33 in /usr/local/lib/python3.11/dist-packages (from langchain-core<1.0.0,>=0.3.56->langchain_community) (1.33)\n",
            "Requirement already satisfied: packaging<25,>=23.2 in /usr/local/lib/python3.11/dist-packages (from langchain-core<1.0.0,>=0.3.56->langchain_community) (24.2)\n",
            "Requirement already satisfied: orjson<4.0.0,>=3.9.14 in /usr/local/lib/python3.11/dist-packages (from langsmith<0.4,>=0.1.125->langchain_community) (3.10.18)\n",
            "Requirement already satisfied: requests-toolbelt<2.0.0,>=1.0.0 in /usr/local/lib/python3.11/dist-packages (from langsmith<0.4,>=0.1.125->langchain_community) (1.0.0)\n",
            "Requirement already satisfied: zstandard<0.24.0,>=0.23.0 in /usr/local/lib/python3.11/dist-packages (from langsmith<0.4,>=0.1.125->langchain_community) (0.23.0)\n",
            "Requirement already satisfied: anyio in /usr/local/lib/python3.11/dist-packages (from httpx->llama-index-core) (4.9.0)\n",
            "Requirement already satisfied: httpcore==1.* in /usr/local/lib/python3.11/dist-packages (from httpx->llama-index-core) (1.0.9)\n",
            "Requirement already satisfied: h11>=0.16 in /usr/local/lib/python3.11/dist-packages (from httpcore==1.*->httpx->llama-index-core) (0.16.0)\n",
            "Requirement already satisfied: click in /usr/local/lib/python3.11/dist-packages (from nltk>3.8.1->llama-index-core) (8.1.8)\n",
            "Requirement already satisfied: joblib in /usr/local/lib/python3.11/dist-packages (from nltk>3.8.1->llama-index-core) (1.4.2)\n",
            "Requirement already satisfied: regex>=2021.8.3 in /usr/local/lib/python3.11/dist-packages (from nltk>3.8.1->llama-index-core) (2024.11.6)\n",
            "Requirement already satisfied: annotated-types>=0.6.0 in /usr/local/lib/python3.11/dist-packages (from pydantic>=2.8.0->llama-index-core) (0.7.0)\n",
            "Requirement already satisfied: pydantic-core==2.33.2 in /usr/local/lib/python3.11/dist-packages (from pydantic>=2.8.0->llama-index-core) (2.33.2)\n",
            "Requirement already satisfied: typing-inspection>=0.4.0 in /usr/local/lib/python3.11/dist-packages (from pydantic>=2.8.0->llama-index-core) (0.4.0)\n",
            "Requirement already satisfied: greenlet>=1 in /usr/local/lib/python3.11/dist-packages (from sqlalchemy>=1.4.49->sqlalchemy[asyncio]>=1.4.49->llama-index-core) (3.2.1)\n",
            "Requirement already satisfied: mypy-extensions>=0.3.0 in /usr/local/lib/python3.11/dist-packages (from typing-inspect>=0.8.0->llama-index-core) (1.1.0)\n",
            "Requirement already satisfied: python-dateutil>=2.8.2 in /usr/local/lib/python3.11/dist-packages (from pandas->llama-index-readers-file) (2.9.0.post0)\n",
            "Requirement already satisfied: pytz>=2020.1 in /usr/local/lib/python3.11/dist-packages (from pandas->llama-index-readers-file) (2025.2)\n",
            "Requirement already satisfied: tzdata>=2022.7 in /usr/local/lib/python3.11/dist-packages (from pandas->llama-index-readers-file) (2025.2)\n",
            "Requirement already satisfied: jsonpointer>=1.9 in /usr/local/lib/python3.11/dist-packages (from jsonpatch<2.0,>=1.33->langchain-core<1.0.0,>=0.3.56->langchain_community) (3.0.0)\n",
            "Requirement already satisfied: pyasn1<0.7.0,>=0.6.1 in /usr/local/lib/python3.11/dist-packages (from pyasn1-modules>=0.2.1->google-auth!=2.24.0,!=2.25.0,<3.0.0,>=2.14.1->google-ai-generativelanguage) (0.6.1)\n",
            "Requirement already satisfied: six>=1.5 in /usr/local/lib/python3.11/dist-packages (from python-dateutil>=2.8.2->pandas->llama-index-readers-file) (1.17.0)\n",
            "Requirement already satisfied: sniffio>=1.1 in /usr/local/lib/python3.11/dist-packages (from anyio->httpx->llama-index-core) (1.3.1)\n",
            "Requirement already satisfied: colorama>=0.4 in /usr/local/lib/python3.11/dist-packages (from griffe->banks<3,>=2.0.0->llama-index-core) (0.4.6)\n",
            "Requirement already satisfied: MarkupSafe>=2.0 in /usr/local/lib/python3.11/dist-packages (from jinja2->banks<3,>=2.0.0->llama-index-core) (3.0.2)\n"
          ]
        }
      ],
      "source": [
        "!pip install llama-index-core google-ai-generativelanguage llama-index-readers-file llama-index-llms-langchain llama-index-embeddings-langchain langchain_community langchain-google-genai python-dotenv requests"
      ]
    },
    {
      "cell_type": "markdown",
      "metadata": {
        "id": "WomByUtY_KYs"
      },
      "source": [
        "## Step 2: Configure Environment\n",
        "\n",
        "You'll need an OpenAI API key to proceed. Let's set up our environment:"
      ]
    },
    {
      "cell_type": "code",
      "execution_count": 2,
      "metadata": {
        "id": "poIQFN09_KYs"
      },
      "outputs": [],
      "source": [
        "import os\n",
        "from getpass import getpass\n",
        "\n",
        "# Safely input your API key\n",
        "# See https://ai.google.dev/gemini-api/docs/api-key\n",
        "\n",
        "os.environ[\"GOOGLE_API_KEY\"] = getpass(\"Enter your Gemini API key: \")"
      ]
    },
    {
      "cell_type": "markdown",
      "metadata": {
        "id": "NIjvon59_KYt"
      },
      "source": [
        "## Step 3: Initialize Settings\n",
        "\n",
        "Let's set up our LLM and embedding models. We'll use OpenAI's models:"
      ]
    },
    {
      "cell_type": "code",
      "execution_count": 3,
      "metadata": {
        "colab": {
          "base_uri": "https://localhost:8080/"
        },
        "id": "tCWBST-o_KYt",
        "outputId": "53a29fac-8f65-4a59-fc68-1bdeccab7eda"
      },
      "outputs": [
        {
          "output_type": "stream",
          "name": "stdout",
          "text": [
            "[0.01196148619055748, -0.01046975888311863, -0.06205957755446434, -0.022057529538869858, 0.02292407676577568, 0.005410132464021444, 0.03177236020565033, 0.015446889214217663, -0.026118792593479156, 0.0399305559694767, -0.007852270267903805, 0.03176525607705116, 0.06875719130039215, -0.0050914837047457695, -0.03309789299964905, -0.024360012263059616, 0.021406004205346107, 0.004017258062958717, -0.09305911511182785, 0.025644810870289803, 0.014212378300726414, -0.0319548100233078, 0.016463130712509155, 0.0061324238777160645, -0.03154753893613815, -0.029837684705853462, -0.009131282567977905, -0.029029587283730507, -9.827438771026209e-05, -0.011392872780561447, 0.05288812518119812, 0.06295164674520493, 0.010872931219637394, -0.05070597305893898, 0.03317609429359436, 0.006293145008385181, -0.0031746113672852516, 0.016111960634589195, 0.03397845849394798, -0.049869079142808914, -0.10596867650747299, 0.021181650459766388, 0.002663138322532177, 0.04371045157313347, -0.01763414405286312, -0.012930827215313911, -0.001962324371561408, 0.04769894480705261, -0.0061625270172953606, 0.013295904733240604, 0.03908873721957207, -0.015217629261314869, -0.058828938752412796, 0.027556246146559715, -0.016575738787651062, -0.026151305064558983, -0.026902085170149803, -0.017735373228788376, 0.05556448549032211, -0.023615017533302307, 0.0020930978935211897, -0.01128383632749319, 0.012723580934107304, -0.016719553619623184, 0.0037978587206453085, -0.048253778368234634, 0.0027747112326323986, -0.002166135236620903, -0.03435446321964264, 0.047708671540021896, -0.0013411878608167171, 0.02040746621787548, -0.04170256108045578, -0.027134908363223076, -0.013796277344226837, -0.012998548336327076, -0.0043354337103664875, -0.009915647096931934, 0.024450791999697685, 0.05687982589006424, -0.027841320261359215, 0.02914944477379322, 0.07369757443666458, 0.042476337403059006, -0.011871730908751488, 0.02889999747276306, 0.037155620753765106, -0.06313837319612503, -0.0572604276239872, 0.0008121010032482445, 0.12033110857009888, 0.032441120594739914, -0.006793804932385683, 0.006800251547247171, 0.08212800323963165, -0.016642628237605095, -0.09811760485172272, -0.10952401161193848, 0.08313409239053726, 0.032860152423381805, -0.019826456904411316, -0.009148791432380676, -0.050696346908807755, -0.07373698800802231, 0.025681521743535995, 0.009481340646743774, -0.06682488322257996, -0.047353364527225494, -0.01558054517954588, 0.03969985991716385, 0.0003066858625970781, -0.026442058384418488, 0.04661961644887924, 0.04248932749032974, -0.02317425236105919, 0.02841905876994133, -0.046730443835258484, 0.02471758797764778, -0.024009596556425095, 0.026630593463778496, 0.00148973788600415, 0.02990742027759552, -0.010944814421236515, 0.07735376060009003, 0.0669081062078476, 0.037275075912475586, 0.013257627375423908, 0.0015609513502568007, -0.03651063144207001, -0.011577878147363663, 0.05246312916278839, -0.027751903980970383, 0.01997421681880951, 0.0269317664206028, -0.017976602539420128, -0.028777310624718666, 0.052440542727708817, -0.0020491154864430428, 0.044741686433553696, 0.049145158380270004, -0.016629714518785477, -0.040007222443819046, -0.050953011959791183, -0.01844113878905773, -0.01606789603829384, 0.010606462135910988, -0.011578425765037537, 0.07051572948694229, -0.056334253400564194, 0.015198766253888607, -0.06263329088687897, -0.004304711706936359, 0.022845787927508354, -0.0041418555192649364, 0.006508564576506615, -0.02721685729920864, 0.006337879225611687, -0.0421990267932415, 0.061992354691028595, 0.014674147590994835, 0.05252861976623535, -0.0747177004814148, -0.016120905056595802, 0.02670574001967907, -0.01709304377436638, 0.015377141535282135, -0.01474708504974842, -0.052875202149152756, 0.002743255812674761, 0.03327290713787079, -0.05291300266981125, -0.038283344358205795, -0.0321308933198452, -0.1122150719165802, -0.001966798445209861, 0.040099579840898514, -0.027720091864466667, -0.001957135507836938, -0.005474490579217672, 0.008406114764511585, 0.1213686391711235, 0.04490214213728905, -0.010899514891207218, -0.09201065450906754, 0.020751262083649635, 0.01347205601632595, -0.006738146301358938, 0.021986590698361397, 0.11056823283433914, 0.03082253225147724, 0.006075330078601837, 0.025027235969901085, 0.014396014623343945, 0.0507156141102314, -0.0005339834024198353, -0.025030186399817467, 0.02267877757549286, -0.01227239053696394, -0.01999487914144993, -0.05964528024196625, 0.023198122158646584, 0.016194095835089684, -0.04014641419053078, -0.03170551732182503, -0.04431217163801193, 0.03260565549135208, -0.06196928396821022, -0.06873463094234467, -0.009642485529184341, 0.020469650626182556, 0.007242890074849129, -0.006491647567600012, -0.023106222972273827, -0.057324983179569244, 0.03363773226737976, 0.023636730387806892, 0.05613487958908081, -0.01321110874414444, 0.03868739306926727, -0.021054834127426147, 0.06168637052178383, 0.009903592057526112, 0.040978047996759415, 0.008420678786933422, 0.050013259053230286, 0.026783490553498268, -0.06978928297758102, 0.008452607318758965, -0.002445351332426071, -0.040582168847322464, 0.023704012855887413, 0.06636601686477661, -0.002098549623042345, 0.05810800939798355, -0.05926872789859772, 0.03507247567176819, 0.056194089353084564, -0.023611366748809814, -0.03783396631479263, 0.047298986464738846, 0.01320814061909914, 0.04901832714676857, 0.036751966923475266, 0.021186010912060738, 0.06770054250955582, -0.03598306328058243, 0.055816635489463806, 0.02725449576973915, 0.007601710502058268, -0.05548246577382088, -0.028910920023918152, -0.02328246831893921, 0.0016582934185862541, -0.015681277960538864, -0.05955297872424126, -0.06886172294616699, 0.02974112518131733, 0.040268976241350174, 0.010069492273032665, -0.05534122511744499, 0.042039621621370316, 0.013258719816803932, -0.0026610044296830893, -0.08844650536775589, -0.039905715733766556, -0.10172027349472046, -0.013597755692899227, -0.02303982526063919, 0.02961530163884163, -0.03374587371945381, 0.029797766357660294, -0.016757218167185783, -0.03616037219762802, -0.009857029654085636, -0.038952700793743134, 0.03129317983984947, -0.0122336121276021, -0.0038789811078459024, 0.00105751259252429, -0.06524132192134857, -0.009026117622852325, 0.012989119626581669, 0.01676137186586857, 0.002624420216307044, 0.0023396010510623455, -0.08247746527194977, -0.0019016945734620094, 0.06775946915149689, 0.008647981099784374, -0.0229791309684515, 0.05008215084671974, 0.0644061267375946, -0.032938629388809204, -0.05684453248977661, 0.02860313095152378, 0.026195483282208443, 0.014235842041671276, 0.011240119114518166, 0.018170127645134926, -0.0418805256485939, 0.022834748029708862, 0.06126120314002037, -0.026972152292728424, 0.052901025861501694, 0.02967699244618416, -0.031848274171352386, -0.027641193941235542, -0.030766140669584274, -0.014589903876185417, -0.020359789952635765, -0.014383548870682716, 0.013481039553880692, -0.03301786631345749, -0.04491391032934189, -0.027019642293453217, -0.00698411138728261, -0.16848322749137878, -0.016575997695326805, -0.0007124746334739029, -0.014692213386297226, 0.00417570723220706, 0.023568272590637207, 0.015283745713531971, 0.03506379947066307, -0.007855790667235851, -0.02500523068010807, 0.01393305417150259, -0.01723552867770195, 0.0066807144321501255, -0.01283462904393673, 0.0046095456928014755, 0.03356872871518135, -0.041357964277267456, -0.028609231114387512, -0.022867772728204727, 0.04294399544596672, -0.041140515357255936, 0.024177851155400276, 0.07926103472709656, 0.047052353620529175, 0.043064750730991364, 0.05476159602403641, 0.04675177484750748, 0.04237710312008858, -0.035468049347400665, -0.04643744230270386, -0.0056962743401527405, 0.028906255960464478, 0.025136783719062805, 0.03760017454624176, 0.028756078332662582, 0.04699284955859184, 0.0037425216287374496, -0.03795678913593292, -0.021782921627163887, 0.027322987094521523, 0.06851993501186371, -0.023382434621453285, 0.024745458737015724, -0.03405078500509262, -0.007675139233469963, 0.00046361179556697607, -0.03183174505829811, 0.0063521163538098335, 0.049718085676431656, -0.008734166622161865, 0.004840891808271408, 0.0371585451066494, -0.005961611866950989, -0.042149197310209274, -0.04688593000173569, 0.028882931917905807, -0.008100125007331371, -0.01251107919961214, 0.028951700776815414, -0.029588405042886734, -0.0683707743883133, 0.027491532266139984, -0.013107559643685818, 0.04103195294737816, -0.007760503329336643, -0.03276141732931137, -0.023586515337228775, 0.04159100726246834, -0.007897249422967434, 0.08795095235109329, -0.051742568612098694, 0.0027511618100106716, -0.028154680505394936, -0.031360525637865067, -0.030021699145436287, 0.07681053131818771, 0.023925576359033585, 0.02312672697007656, -0.006952556781470776, 0.0413852259516716, -0.0219342652708292, 0.02349254861474037, 0.016985885798931122, 0.012387697584927082, -0.01254335418343544, -0.0142128961160779, 0.08137049525976181, -0.06170284375548363, -0.03643227368593216, -0.0034383751917630434, 0.037498895078897476, 0.012678833678364754, 0.0193839892745018, 0.021534403786063194, -0.024149999022483826, -0.01555363368242979, -0.040549136698246, 0.03274308890104294, -0.015201845206320286, -0.012083456851541996, 0.03156787157058716, -0.047995202243328094, -0.001519567333161831, -0.01451756153255701, -0.017752310261130333, 0.007584604900330305, -0.022248420864343643, -0.014529403299093246, 0.01752130128443241, -0.06832873821258545, -0.039869774132966995, 0.04404670372605324, 0.009717000648379326, -0.009219883009791374, 0.033762719482183456, 0.059380702674388885, -0.03168822079896927, 0.09185419976711273, -0.01034811232239008, 0.03785460442304611, 0.00654764287173748, -0.025922488421201706, 0.014064522460103035, 0.021050501614809036, 0.019513435661792755, -0.008646701462566853, 0.05916299670934677, 0.0009807446040213108, -0.01188585627824068, 0.036152634769678116, 0.02929520234465599, 0.02243984118103981, -0.027218583971261978, -0.00044356848229654133, 0.01307610236108303, -0.023649519309401512, -0.008213554508984089, -0.015636363998055458, -0.04841673746705055, 0.015252322889864445, 0.014748100191354752, 0.03250018507242203, -0.00038047178531996906, -0.016919288784265518, -0.009768974035978317, -0.02102794498205185, 0.07699371129274368, -0.005757688079029322, -0.01689501479268074, 0.008434021845459938, 0.02143341489136219, 0.002946790773421526, -0.034126266837120056, 0.07077948749065399, 0.003245886880904436, -0.013256336562335491, 0.04178901016712189, 0.005713125225156546, -0.025120709091424942, -0.0020066776778548956, 0.033014070242643356, 0.0035834209993481636, -0.009651300497353077, -0.04729543998837471, -0.026126790791749954, 0.002472680527716875, -0.018800055608153343, 0.017663616687059402, 0.04444156587123871, -0.023816727101802826, -0.04654056951403618, 0.023088132962584496, -0.0034493785351514816, 0.0158873088657856, 0.0005810250877402723, 0.0038651388604193926, -0.03598723188042641, -0.03751004487276077, -0.011325085535645485, 0.0010166155407205224, 0.02867763489484787, -0.03253600373864174, -0.01481596753001213, 0.031099269166588783, 0.05252331867814064, 0.04160086065530777, -0.020159032195806503, -0.0636671632528305, -0.0641908273100853, 0.018525606021285057, -0.04110033065080643, -0.013069335371255875, 0.04989691451191902, 0.011753318831324577, 0.04719000682234764, -0.02086772210896015, -0.0019313950324431062, 0.018351390957832336, -0.02956107258796692, 0.001997106708586216, -0.0621599406003952, -0.012496160343289375, -0.02702789567410946, 0.017011230811476707, -0.08062800765037537, -0.014087951742112637, 0.020279183983802795, -0.008077935315668583, 0.017036978155374527, -0.020846612751483917, 0.008962097577750683, 0.009537466801702976, -0.0003628812846727669, -0.040833279490470886, -0.010185293853282928, 0.07475946843624115, 0.05949319899082184, 0.05977961793541908, 0.022052573040127754, 0.043350670486688614, 0.035625044256448746, 0.026483824476599693, -0.0011485610157251358, 0.02255438268184662, -0.013658219948410988, -0.01878643035888672, 0.007063970901072025, 0.03209047392010689, 0.03570776432752609, 0.016784247010946274, 0.008226029574871063, 0.05142267420887947, -0.00772090582177043, 0.07746638357639313, -0.03031339682638645, -0.028812767937779427, 0.00014280795585364103, 0.004457381553947926, -0.007394609972834587, -0.03429729491472244, 0.014835217036306858, -0.04202064871788025, -0.014647743664681911, -0.009930219501256943, -0.007491672411561012, -0.018667638301849365, -0.013598980382084846, 0.008139130659401417, 0.008610268123447895, -0.007857459597289562, 0.03677889332175255, 0.08089441806077957, -0.04970753192901611, -0.021096743643283844, -0.003389207413420081, -0.0042927078902721405, 0.030832886695861816, -0.04030964523553848, -0.010934945195913315, 0.028940606862306595, -0.0462263859808445, 0.005520347971469164, 0.013890706934034824, -0.041901879012584686, 0.020660579204559326, 0.0016206175787374377, 0.048741474747657776, -0.01492274459451437, 0.005730450619012117, 0.015138433314859867, -0.002099381061270833, -0.022556547075510025, -0.007739687338471413, 0.02196078933775425, -0.033887896686792374, 0.020302699878811836, -0.01692100614309311, -0.043822869658470154, -0.003864934900775552, 0.00983651913702488, -0.021882260218262672, 0.05588778108358383, -0.004154802765697241, -0.0059409490786492825, -0.008783778175711632, -0.006570508703589439, 0.04735788330435753, 0.02762633189558983, -0.01059386134147644, -0.01803739368915558, -0.03901471570134163, -0.04542117565870285, -0.0060474202036857605, -0.03240314871072769, 0.0030192264821380377, 0.0443468801677227, -0.03368525952100754, -0.01725497655570507, -0.05669669061899185, -0.001889323815703392, -0.036202605813741684, -0.024076486006379128, -0.0018512321403250098, 0.011966421268880367, 0.018178466707468033, 0.012651687487959862, 0.055488668382167816, 0.013872439973056316, -0.050375211983919144, -0.009207393042743206, 0.017273778095841408, -0.005510566756129265, 0.048866450786590576, 0.002656840719282627, -0.01355720404535532, 0.038969188928604126, 0.04725668951869011, -0.035600367933511734, -0.00975333247333765, -0.03182479366660118, 0.031690098345279694, 0.026554500684142113, -0.028804633766412735, -0.04933208227157593, 0.02592950128018856, 0.006611528340727091, 0.047349460422992706, 0.007048889994621277, -0.06222238764166832, 0.01323460228741169, 0.04973331838846207, -0.023949328809976578, 0.009949510917067528, 0.04814017191529274, -0.003808046458289027, 0.05239713937044144, -0.029840532690286636, 0.002186108846217394, -0.04742485657334328, 0.0361144132912159, -0.06959842890501022, 0.0030973819084465504, -0.032323356717824936, 0.009743845090270042, 0.023725714534521103, -0.032565467059612274, -0.0031626203563064337, -0.0028094113804399967, 0.020207026973366737, -0.009748346172273159, 0.024275653064250946, -0.0013098047347739339, 0.02424037456512451, -0.0324523001909256, 0.025656957179307938, -0.0007469682022929192, 0.0010850023245438933, 0.004136188421398401, -0.04958316683769226, 0.04888702929019928, 0.040075063705444336, 0.0049102287739515305, -0.008973605930805206, 0.0248065497726202, 0.003119157860055566, -0.023645654320716858, -0.005615195259451866, -0.0027127754874527454, 0.025286702439188957, -0.007634827401489019, 0.06531397253274918, -0.04673953726887703, -0.036937568336725235, 0.03337985277175903, 0.002113541355356574, -0.020946528762578964, -0.044333845376968384, 0.024171410128474236, -0.03474849835038185, 0.0438077375292778, -0.01606931909918785, 0.018399931490421295, -0.0729990229010582, 0.011383875273168087, -0.02518305554986, 0.015351279638707638, -0.03750990331172943, -0.061955422163009644, 0.038028184324502945, 0.002751539461314678, 0.04939362779259682, 0.0501512736082077, -0.006165359169244766, 0.005608436185866594, -0.037066828459501266, 0.00539611279964447, -0.008870505727827549, 0.03623689338564873, 0.003211895003914833, 0.04112350195646286, 0.04455931484699249, 0.02357630990445614, 0.03831389173865318, 0.008255863562226295, -0.007155218627303839, -0.04982034116983414, 0.02355131134390831, 0.05687748268246651, 0.02733932062983513, 0.04123486578464508, -0.05229352414608002, -0.025648029521107674, -0.052259661257267, 0.07551836967468262, 0.04274062067270279, -0.00016172678442671895, -0.014597798697650433, 0.05817795917391777, -0.010907704010605812, -0.022259749472141266, -0.009380587376654148, -0.014270146377384663, -0.02217736840248108, -0.036874692887067795, 0.020313892513513565, -0.02826635353267193, -0.10469944030046463, -0.01125823799520731, -0.01854681596159935, 0.015481124632060528, 0.004804661031812429, 0.01972014084458351, -0.01717032678425312, -0.0029459111392498016, -0.07933136075735092, 0.004465969279408455, 0.0012799318647012115, 0.018665507435798645, -0.00577976368367672, -0.010053285397589207, -0.00474341306835413, -0.025430243462324142, 0.013848278671503067, 0.0372534841299057, -0.04570797458291054, 0.056914445012807846, -0.0016016477020457387, 0.01511448435485363, -0.09784658253192902, -0.0339236855506897, 0.027550924569368362, -0.015038513578474522]\n",
            "Settings initialized!\n"
          ]
        }
      ],
      "source": [
        "from llama_index.core import Settings\n",
        "from langchain_google_genai import ChatGoogleGenerativeAI\n",
        "from llama_index.llms.langchain import LangChainLLM\n",
        "from langchain_google_genai import GoogleGenerativeAIEmbeddings\n",
        "from llama_index.embeddings.langchain import LangchainEmbedding\n",
        "import logging\n",
        "import sys\n",
        "\n",
        "logging.basicConfig(stream=sys.stdout, level=logging.DEBUG)\n",
        "logging.getLogger().addHandler(logging.StreamHandler(stream=sys.stdout))\n",
        "\n",
        "# Initialize settings with specific models\n",
        "# See https://ai.google.dev/gemini-api/docs/models#text-embedding\n",
        "Settings.llm = LangChainLLM(ChatGoogleGenerativeAI(model=\"gemini-2.0-flash\"))\n",
        "Settings.embed_model = LangchainEmbedding(GoogleGenerativeAIEmbeddings(model=\"models/text-embedding-004\"))\n",
        "\n",
        "# Let's see what an embedding look like\n",
        "info = \"Settings initialized!\"\n",
        "print(Settings.embed_model.get_text_embedding(info))\n",
        "print(info)"
      ]
    },
    {
      "cell_type": "markdown",
      "metadata": {
        "id": "FNKoI4AL_KYt"
      },
      "source": [
        "## Step 4: Create Sample Documents\n",
        "\n",
        "Let's create some sample documents to demonstrate RAG. We'll create a simple directory with text files:"
      ]
    },
    {
      "cell_type": "code",
      "execution_count": 4,
      "metadata": {
        "colab": {
          "base_uri": "https://localhost:8080/"
        },
        "id": "Wg1oaXVM_KYt",
        "outputId": "18618227-9e02-4890-f084-2266383ff5cd"
      },
      "outputs": [
        {
          "output_type": "stream",
          "name": "stdout",
          "text": [
            "Sample documents created!\n"
          ]
        }
      ],
      "source": [
        "import os\n",
        "import requests\n",
        "\n",
        "# Create a data directory\n",
        "os.makedirs(\"data\", exist_ok=True)\n",
        "# Download Paul Graham's essay\n",
        "worked_on_url = \"https://gist.githubusercontent.com/gardner/8181cd9c74dcf310b6e440e3bc01c2ff/raw/f739fa60ff00eca8a3a15632e0c06b054c97c7c1/what_i_worked_on.txt\"\n",
        "worked_on_path = \"data/what_i_worked_on.txt\"\n",
        "\n",
        "response = requests.get(worked_on_url)\n",
        "with open(worked_on_path, \"w\") as f:\n",
        "    f.write(response.text)\n",
        "\n",
        "pdf_url = \"https://www.mpi.govt.nz/dmsdocument/68256-Proposals-to-Amend-the-New-Zealand-Food-Notice-Maximum-Residue-Levels-for-Agricultural-Compounds\"\n",
        "pdf_path = \"data/nz_food_notice.pdf\"\n",
        "\n",
        "# Download the PDF\n",
        "response = requests.get(pdf_url)\n",
        "with open(pdf_path, \"wb\") as f:\n",
        "    f.write(response.content)\n",
        "\n",
        "\n",
        "print(\"Sample documents created!\")"
      ]
    },
    {
      "cell_type": "markdown",
      "metadata": {
        "id": "4TgsBm8a_KYt"
      },
      "source": [
        "## Step 5: Create and Store Embeddings\n",
        "\n",
        "Now, let's create embeddings for our documents and store them in a vector index:"
      ]
    },
    {
      "cell_type": "code",
      "execution_count": 5,
      "metadata": {
        "colab": {
          "base_uri": "https://localhost:8080/",
          "height": 331,
          "referenced_widgets": [
            "ef8c81a2a9114743b4298bd12310f1fa",
            "b8c05323ce1f47509e98387a02821f34",
            "a6931990be1f49ffa84c84b87b646219",
            "c404a2252b7c42fabfdbfffd19b12bba",
            "77eaa48d0b8d46408843dbd17fbec6ef",
            "ce2d4aaf1eb04f8e8c86736776fc45fe",
            "9d71ea082b1846f7bc9ea1a14a01e8e1",
            "7c8933ba295c464882f4467e42c3badb",
            "8da9171a7cfd4eec9b8a77257559c456",
            "a7cf9c2f44e54b0890769629140a7924",
            "daaf44ed67c044ed8404a2468dc95a1b",
            "25e1d1d519c7460eac7badcc6430b7c4",
            "a417cfcbf94a418f9c46c6f2432c2d78",
            "cebf400e1500439cb4ed4714c72b36eb",
            "47802aeb957b4bc99ba3ea03aa06e2bc",
            "5c4d436e00f34f99a9facfbcfb78e409",
            "03df49bef7ed4d00a4d6ab4a6122cff4",
            "be42c68e5fb04fc69bef8c64d6995eca",
            "5b83ff06a9204f79b5443b5ed424b8cb",
            "557ad8031c434299bc216cbf08cbbbf6",
            "c31182b04a51403889b468f2a6b5146a",
            "904f5dfa19f2492e99824c3f022579d0"
          ]
        },
        "id": "r6MCxWZ3_KYt",
        "outputId": "eb861a47-4e4a-41ef-a642-76c0803e6a18"
      },
      "outputs": [
        {
          "output_type": "stream",
          "name": "stderr",
          "text": [
            "WARNING:pypdf._reader:invalid pdf header: b'<!DOC'\n"
          ]
        },
        {
          "output_type": "stream",
          "name": "stdout",
          "text": [
            "invalid pdf header: b'<!DOC'\n"
          ]
        },
        {
          "output_type": "stream",
          "name": "stderr",
          "text": [
            "WARNING:pypdf._reader:EOF marker not found\n"
          ]
        },
        {
          "output_type": "stream",
          "name": "stdout",
          "text": [
            "EOF marker not found\n"
          ]
        },
        {
          "output_type": "stream",
          "name": "stderr",
          "text": [
            "WARNING:pypdf._reader:invalid pdf header: b'<!DOC'\n"
          ]
        },
        {
          "output_type": "stream",
          "name": "stdout",
          "text": [
            "invalid pdf header: b'<!DOC'\n"
          ]
        },
        {
          "output_type": "stream",
          "name": "stderr",
          "text": [
            "WARNING:pypdf._reader:EOF marker not found\n"
          ]
        },
        {
          "output_type": "stream",
          "name": "stdout",
          "text": [
            "EOF marker not found\n"
          ]
        },
        {
          "output_type": "stream",
          "name": "stderr",
          "text": [
            "WARNING:pypdf._reader:invalid pdf header: b'<!DOC'\n"
          ]
        },
        {
          "output_type": "stream",
          "name": "stdout",
          "text": [
            "invalid pdf header: b'<!DOC'\n"
          ]
        },
        {
          "output_type": "stream",
          "name": "stderr",
          "text": [
            "WARNING:pypdf._reader:EOF marker not found\n"
          ]
        },
        {
          "output_type": "stream",
          "name": "stdout",
          "text": [
            "EOF marker not found\n",
            "Failed to load file /content/data/nz_food_notice.pdf with error: RetryError[<Future at 0x7ccba71e3f10 state=finished raised PdfStreamError>]. Skipping...\n"
          ]
        },
        {
          "output_type": "display_data",
          "data": {
            "text/plain": [
              "Parsing nodes:   0%|          | 0/1 [00:00<?, ?it/s]"
            ],
            "application/vnd.jupyter.widget-view+json": {
              "version_major": 2,
              "version_minor": 0,
              "model_id": "ef8c81a2a9114743b4298bd12310f1fa"
            }
          },
          "metadata": {}
        },
        {
          "output_type": "display_data",
          "data": {
            "text/plain": [
              "Generating embeddings:   0%|          | 0/21 [00:00<?, ?it/s]"
            ],
            "application/vnd.jupyter.widget-view+json": {
              "version_major": 2,
              "version_minor": 0,
              "model_id": "25e1d1d519c7460eac7badcc6430b7c4"
            }
          },
          "metadata": {}
        },
        {
          "output_type": "stream",
          "name": "stdout",
          "text": [
            "Index created and stored!\n"
          ]
        }
      ],
      "source": [
        "from llama_index.core.indices import VectorStoreIndex\n",
        "from llama_index.core.readers import SimpleDirectoryReader\n",
        "\n",
        "# Load documents\n",
        "# See https://docs.llamaindex.ai/en/stable/module_guides/loading/simpledirectoryreader/\n",
        "reader = SimpleDirectoryReader(\"data\")\n",
        "documents = reader.load_data()\n",
        "\n",
        "# Create the index\n",
        "index = VectorStoreIndex.from_documents(\n",
        "    documents,\n",
        "    show_progress=True\n",
        ")\n",
        "\n",
        "# Store the index\n",
        "index.storage_context.persist(\"storage\")\n",
        "\n",
        "print(\"Index created and stored!\")"
      ]
    },
    {
      "cell_type": "markdown",
      "metadata": {
        "id": "ywwvkNCY_KYu"
      },
      "source": [
        "## Step 6: Query the RAG System\n",
        "\n",
        "Let's try querying our RAG system to see how it retrieves and generates responses:"
      ]
    },
    {
      "cell_type": "code",
      "execution_count": null,
      "metadata": {
        "id": "4YHhK-dG_KYu"
      },
      "outputs": [],
      "source": [
        "# Create a query engine\n",
        "query_engine = index.as_query_engine()\n",
        "\n",
        "# Try some queries\n",
        "questions = [\n",
        "    \"What did the author work on?\",\n",
        "    \"What was the most recent thing the author worked on?\",\n",
        "]\n",
        "\n",
        "for question in questions:\n",
        "    print(f\"\\nQuestion: {question}\")\n",
        "    response = query_engine.query(question)\n",
        "    print(f\"Answer: {response}\")"
      ]
    },
    {
      "cell_type": "markdown",
      "metadata": {
        "id": "noNhF11M_KYu"
      },
      "source": [
        "## Understanding What Just Happened\n",
        "\n",
        "Let's break down the RAG process we just implemented:\n",
        "\n",
        "1. **Document Loading**: We loaded text documents using SimpleDirectoryReader\n",
        "2. **Embedding Creation**: Each document was converted into embeddings using OpenAI's embedding model\n",
        "3. **Vector Storage**: The embeddings were stored in a vector index for efficient retrieval\n",
        "4. **Query Processing**: When we ask a question:\n",
        "   - The question is converted to an embedding\n",
        "   - Similar documents are retrieved from the vector store\n",
        "   - The LLM uses the retrieved context to generate an answer\n",
        "\n",
        "This is the essence of RAG - combining retrieval with generation to provide accurate, contextual responses!"
      ]
    }
  ],
  "metadata": {
    "kernelspec": {
      "display_name": "Python 3",
      "language": "python",
      "name": "python3"
    },
    "language_info": {
      "codemirror_mode": {
        "name": "ipython",
        "version": 3
      },
      "file_extension": ".py",
      "mimetype": "text/x-python",
      "name": "python",
      "nbconvert_exporter": "python",
      "pygments_lexer": "ipython3",
      "version": "3.11"
    },
    "colab": {
      "provenance": []
    },
    "widgets": {
      "application/vnd.jupyter.widget-state+json": {
        "ef8c81a2a9114743b4298bd12310f1fa": {
          "model_module": "@jupyter-widgets/controls",
          "model_name": "HBoxModel",
          "model_module_version": "1.5.0",
          "state": {
            "_dom_classes": [],
            "_model_module": "@jupyter-widgets/controls",
            "_model_module_version": "1.5.0",
            "_model_name": "HBoxModel",
            "_view_count": null,
            "_view_module": "@jupyter-widgets/controls",
            "_view_module_version": "1.5.0",
            "_view_name": "HBoxView",
            "box_style": "",
            "children": [
              "IPY_MODEL_b8c05323ce1f47509e98387a02821f34",
              "IPY_MODEL_a6931990be1f49ffa84c84b87b646219",
              "IPY_MODEL_c404a2252b7c42fabfdbfffd19b12bba"
            ],
            "layout": "IPY_MODEL_77eaa48d0b8d46408843dbd17fbec6ef"
          }
        },
        "b8c05323ce1f47509e98387a02821f34": {
          "model_module": "@jupyter-widgets/controls",
          "model_name": "HTMLModel",
          "model_module_version": "1.5.0",
          "state": {
            "_dom_classes": [],
            "_model_module": "@jupyter-widgets/controls",
            "_model_module_version": "1.5.0",
            "_model_name": "HTMLModel",
            "_view_count": null,
            "_view_module": "@jupyter-widgets/controls",
            "_view_module_version": "1.5.0",
            "_view_name": "HTMLView",
            "description": "",
            "description_tooltip": null,
            "layout": "IPY_MODEL_ce2d4aaf1eb04f8e8c86736776fc45fe",
            "placeholder": "​",
            "style": "IPY_MODEL_9d71ea082b1846f7bc9ea1a14a01e8e1",
            "value": "Parsing nodes: 100%"
          }
        },
        "a6931990be1f49ffa84c84b87b646219": {
          "model_module": "@jupyter-widgets/controls",
          "model_name": "FloatProgressModel",
          "model_module_version": "1.5.0",
          "state": {
            "_dom_classes": [],
            "_model_module": "@jupyter-widgets/controls",
            "_model_module_version": "1.5.0",
            "_model_name": "FloatProgressModel",
            "_view_count": null,
            "_view_module": "@jupyter-widgets/controls",
            "_view_module_version": "1.5.0",
            "_view_name": "ProgressView",
            "bar_style": "success",
            "description": "",
            "description_tooltip": null,
            "layout": "IPY_MODEL_7c8933ba295c464882f4467e42c3badb",
            "max": 1,
            "min": 0,
            "orientation": "horizontal",
            "style": "IPY_MODEL_8da9171a7cfd4eec9b8a77257559c456",
            "value": 1
          }
        },
        "c404a2252b7c42fabfdbfffd19b12bba": {
          "model_module": "@jupyter-widgets/controls",
          "model_name": "HTMLModel",
          "model_module_version": "1.5.0",
          "state": {
            "_dom_classes": [],
            "_model_module": "@jupyter-widgets/controls",
            "_model_module_version": "1.5.0",
            "_model_name": "HTMLModel",
            "_view_count": null,
            "_view_module": "@jupyter-widgets/controls",
            "_view_module_version": "1.5.0",
            "_view_name": "HTMLView",
            "description": "",
            "description_tooltip": null,
            "layout": "IPY_MODEL_a7cf9c2f44e54b0890769629140a7924",
            "placeholder": "​",
            "style": "IPY_MODEL_daaf44ed67c044ed8404a2468dc95a1b",
            "value": " 1/1 [00:02&lt;00:00,  2.65s/it]"
          }
        },
        "77eaa48d0b8d46408843dbd17fbec6ef": {
          "model_module": "@jupyter-widgets/base",
          "model_name": "LayoutModel",
          "model_module_version": "1.2.0",
          "state": {
            "_model_module": "@jupyter-widgets/base",
            "_model_module_version": "1.2.0",
            "_model_name": "LayoutModel",
            "_view_count": null,
            "_view_module": "@jupyter-widgets/base",
            "_view_module_version": "1.2.0",
            "_view_name": "LayoutView",
            "align_content": null,
            "align_items": null,
            "align_self": null,
            "border": null,
            "bottom": null,
            "display": null,
            "flex": null,
            "flex_flow": null,
            "grid_area": null,
            "grid_auto_columns": null,
            "grid_auto_flow": null,
            "grid_auto_rows": null,
            "grid_column": null,
            "grid_gap": null,
            "grid_row": null,
            "grid_template_areas": null,
            "grid_template_columns": null,
            "grid_template_rows": null,
            "height": null,
            "justify_content": null,
            "justify_items": null,
            "left": null,
            "margin": null,
            "max_height": null,
            "max_width": null,
            "min_height": null,
            "min_width": null,
            "object_fit": null,
            "object_position": null,
            "order": null,
            "overflow": null,
            "overflow_x": null,
            "overflow_y": null,
            "padding": null,
            "right": null,
            "top": null,
            "visibility": null,
            "width": null
          }
        },
        "ce2d4aaf1eb04f8e8c86736776fc45fe": {
          "model_module": "@jupyter-widgets/base",
          "model_name": "LayoutModel",
          "model_module_version": "1.2.0",
          "state": {
            "_model_module": "@jupyter-widgets/base",
            "_model_module_version": "1.2.0",
            "_model_name": "LayoutModel",
            "_view_count": null,
            "_view_module": "@jupyter-widgets/base",
            "_view_module_version": "1.2.0",
            "_view_name": "LayoutView",
            "align_content": null,
            "align_items": null,
            "align_self": null,
            "border": null,
            "bottom": null,
            "display": null,
            "flex": null,
            "flex_flow": null,
            "grid_area": null,
            "grid_auto_columns": null,
            "grid_auto_flow": null,
            "grid_auto_rows": null,
            "grid_column": null,
            "grid_gap": null,
            "grid_row": null,
            "grid_template_areas": null,
            "grid_template_columns": null,
            "grid_template_rows": null,
            "height": null,
            "justify_content": null,
            "justify_items": null,
            "left": null,
            "margin": null,
            "max_height": null,
            "max_width": null,
            "min_height": null,
            "min_width": null,
            "object_fit": null,
            "object_position": null,
            "order": null,
            "overflow": null,
            "overflow_x": null,
            "overflow_y": null,
            "padding": null,
            "right": null,
            "top": null,
            "visibility": null,
            "width": null
          }
        },
        "9d71ea082b1846f7bc9ea1a14a01e8e1": {
          "model_module": "@jupyter-widgets/controls",
          "model_name": "DescriptionStyleModel",
          "model_module_version": "1.5.0",
          "state": {
            "_model_module": "@jupyter-widgets/controls",
            "_model_module_version": "1.5.0",
            "_model_name": "DescriptionStyleModel",
            "_view_count": null,
            "_view_module": "@jupyter-widgets/base",
            "_view_module_version": "1.2.0",
            "_view_name": "StyleView",
            "description_width": ""
          }
        },
        "7c8933ba295c464882f4467e42c3badb": {
          "model_module": "@jupyter-widgets/base",
          "model_name": "LayoutModel",
          "model_module_version": "1.2.0",
          "state": {
            "_model_module": "@jupyter-widgets/base",
            "_model_module_version": "1.2.0",
            "_model_name": "LayoutModel",
            "_view_count": null,
            "_view_module": "@jupyter-widgets/base",
            "_view_module_version": "1.2.0",
            "_view_name": "LayoutView",
            "align_content": null,
            "align_items": null,
            "align_self": null,
            "border": null,
            "bottom": null,
            "display": null,
            "flex": null,
            "flex_flow": null,
            "grid_area": null,
            "grid_auto_columns": null,
            "grid_auto_flow": null,
            "grid_auto_rows": null,
            "grid_column": null,
            "grid_gap": null,
            "grid_row": null,
            "grid_template_areas": null,
            "grid_template_columns": null,
            "grid_template_rows": null,
            "height": null,
            "justify_content": null,
            "justify_items": null,
            "left": null,
            "margin": null,
            "max_height": null,
            "max_width": null,
            "min_height": null,
            "min_width": null,
            "object_fit": null,
            "object_position": null,
            "order": null,
            "overflow": null,
            "overflow_x": null,
            "overflow_y": null,
            "padding": null,
            "right": null,
            "top": null,
            "visibility": null,
            "width": null
          }
        },
        "8da9171a7cfd4eec9b8a77257559c456": {
          "model_module": "@jupyter-widgets/controls",
          "model_name": "ProgressStyleModel",
          "model_module_version": "1.5.0",
          "state": {
            "_model_module": "@jupyter-widgets/controls",
            "_model_module_version": "1.5.0",
            "_model_name": "ProgressStyleModel",
            "_view_count": null,
            "_view_module": "@jupyter-widgets/base",
            "_view_module_version": "1.2.0",
            "_view_name": "StyleView",
            "bar_color": null,
            "description_width": ""
          }
        },
        "a7cf9c2f44e54b0890769629140a7924": {
          "model_module": "@jupyter-widgets/base",
          "model_name": "LayoutModel",
          "model_module_version": "1.2.0",
          "state": {
            "_model_module": "@jupyter-widgets/base",
            "_model_module_version": "1.2.0",
            "_model_name": "LayoutModel",
            "_view_count": null,
            "_view_module": "@jupyter-widgets/base",
            "_view_module_version": "1.2.0",
            "_view_name": "LayoutView",
            "align_content": null,
            "align_items": null,
            "align_self": null,
            "border": null,
            "bottom": null,
            "display": null,
            "flex": null,
            "flex_flow": null,
            "grid_area": null,
            "grid_auto_columns": null,
            "grid_auto_flow": null,
            "grid_auto_rows": null,
            "grid_column": null,
            "grid_gap": null,
            "grid_row": null,
            "grid_template_areas": null,
            "grid_template_columns": null,
            "grid_template_rows": null,
            "height": null,
            "justify_content": null,
            "justify_items": null,
            "left": null,
            "margin": null,
            "max_height": null,
            "max_width": null,
            "min_height": null,
            "min_width": null,
            "object_fit": null,
            "object_position": null,
            "order": null,
            "overflow": null,
            "overflow_x": null,
            "overflow_y": null,
            "padding": null,
            "right": null,
            "top": null,
            "visibility": null,
            "width": null
          }
        },
        "daaf44ed67c044ed8404a2468dc95a1b": {
          "model_module": "@jupyter-widgets/controls",
          "model_name": "DescriptionStyleModel",
          "model_module_version": "1.5.0",
          "state": {
            "_model_module": "@jupyter-widgets/controls",
            "_model_module_version": "1.5.0",
            "_model_name": "DescriptionStyleModel",
            "_view_count": null,
            "_view_module": "@jupyter-widgets/base",
            "_view_module_version": "1.2.0",
            "_view_name": "StyleView",
            "description_width": ""
          }
        },
        "25e1d1d519c7460eac7badcc6430b7c4": {
          "model_module": "@jupyter-widgets/controls",
          "model_name": "HBoxModel",
          "model_module_version": "1.5.0",
          "state": {
            "_dom_classes": [],
            "_model_module": "@jupyter-widgets/controls",
            "_model_module_version": "1.5.0",
            "_model_name": "HBoxModel",
            "_view_count": null,
            "_view_module": "@jupyter-widgets/controls",
            "_view_module_version": "1.5.0",
            "_view_name": "HBoxView",
            "box_style": "",
            "children": [
              "IPY_MODEL_a417cfcbf94a418f9c46c6f2432c2d78",
              "IPY_MODEL_cebf400e1500439cb4ed4714c72b36eb",
              "IPY_MODEL_47802aeb957b4bc99ba3ea03aa06e2bc"
            ],
            "layout": "IPY_MODEL_5c4d436e00f34f99a9facfbcfb78e409"
          }
        },
        "a417cfcbf94a418f9c46c6f2432c2d78": {
          "model_module": "@jupyter-widgets/controls",
          "model_name": "HTMLModel",
          "model_module_version": "1.5.0",
          "state": {
            "_dom_classes": [],
            "_model_module": "@jupyter-widgets/controls",
            "_model_module_version": "1.5.0",
            "_model_name": "HTMLModel",
            "_view_count": null,
            "_view_module": "@jupyter-widgets/controls",
            "_view_module_version": "1.5.0",
            "_view_name": "HTMLView",
            "description": "",
            "description_tooltip": null,
            "layout": "IPY_MODEL_03df49bef7ed4d00a4d6ab4a6122cff4",
            "placeholder": "​",
            "style": "IPY_MODEL_be42c68e5fb04fc69bef8c64d6995eca",
            "value": "Generating embeddings: 100%"
          }
        },
        "cebf400e1500439cb4ed4714c72b36eb": {
          "model_module": "@jupyter-widgets/controls",
          "model_name": "FloatProgressModel",
          "model_module_version": "1.5.0",
          "state": {
            "_dom_classes": [],
            "_model_module": "@jupyter-widgets/controls",
            "_model_module_version": "1.5.0",
            "_model_name": "FloatProgressModel",
            "_view_count": null,
            "_view_module": "@jupyter-widgets/controls",
            "_view_module_version": "1.5.0",
            "_view_name": "ProgressView",
            "bar_style": "success",
            "description": "",
            "description_tooltip": null,
            "layout": "IPY_MODEL_5b83ff06a9204f79b5443b5ed424b8cb",
            "max": 21,
            "min": 0,
            "orientation": "horizontal",
            "style": "IPY_MODEL_557ad8031c434299bc216cbf08cbbbf6",
            "value": 21
          }
        },
        "47802aeb957b4bc99ba3ea03aa06e2bc": {
          "model_module": "@jupyter-widgets/controls",
          "model_name": "HTMLModel",
          "model_module_version": "1.5.0",
          "state": {
            "_dom_classes": [],
            "_model_module": "@jupyter-widgets/controls",
            "_model_module_version": "1.5.0",
            "_model_name": "HTMLModel",
            "_view_count": null,
            "_view_module": "@jupyter-widgets/controls",
            "_view_module_version": "1.5.0",
            "_view_name": "HTMLView",
            "description": "",
            "description_tooltip": null,
            "layout": "IPY_MODEL_c31182b04a51403889b468f2a6b5146a",
            "placeholder": "​",
            "style": "IPY_MODEL_904f5dfa19f2492e99824c3f022579d0",
            "value": " 21/21 [00:01&lt;00:00, 22.13it/s]"
          }
        },
        "5c4d436e00f34f99a9facfbcfb78e409": {
          "model_module": "@jupyter-widgets/base",
          "model_name": "LayoutModel",
          "model_module_version": "1.2.0",
          "state": {
            "_model_module": "@jupyter-widgets/base",
            "_model_module_version": "1.2.0",
            "_model_name": "LayoutModel",
            "_view_count": null,
            "_view_module": "@jupyter-widgets/base",
            "_view_module_version": "1.2.0",
            "_view_name": "LayoutView",
            "align_content": null,
            "align_items": null,
            "align_self": null,
            "border": null,
            "bottom": null,
            "display": null,
            "flex": null,
            "flex_flow": null,
            "grid_area": null,
            "grid_auto_columns": null,
            "grid_auto_flow": null,
            "grid_auto_rows": null,
            "grid_column": null,
            "grid_gap": null,
            "grid_row": null,
            "grid_template_areas": null,
            "grid_template_columns": null,
            "grid_template_rows": null,
            "height": null,
            "justify_content": null,
            "justify_items": null,
            "left": null,
            "margin": null,
            "max_height": null,
            "max_width": null,
            "min_height": null,
            "min_width": null,
            "object_fit": null,
            "object_position": null,
            "order": null,
            "overflow": null,
            "overflow_x": null,
            "overflow_y": null,
            "padding": null,
            "right": null,
            "top": null,
            "visibility": null,
            "width": null
          }
        },
        "03df49bef7ed4d00a4d6ab4a6122cff4": {
          "model_module": "@jupyter-widgets/base",
          "model_name": "LayoutModel",
          "model_module_version": "1.2.0",
          "state": {
            "_model_module": "@jupyter-widgets/base",
            "_model_module_version": "1.2.0",
            "_model_name": "LayoutModel",
            "_view_count": null,
            "_view_module": "@jupyter-widgets/base",
            "_view_module_version": "1.2.0",
            "_view_name": "LayoutView",
            "align_content": null,
            "align_items": null,
            "align_self": null,
            "border": null,
            "bottom": null,
            "display": null,
            "flex": null,
            "flex_flow": null,
            "grid_area": null,
            "grid_auto_columns": null,
            "grid_auto_flow": null,
            "grid_auto_rows": null,
            "grid_column": null,
            "grid_gap": null,
            "grid_row": null,
            "grid_template_areas": null,
            "grid_template_columns": null,
            "grid_template_rows": null,
            "height": null,
            "justify_content": null,
            "justify_items": null,
            "left": null,
            "margin": null,
            "max_height": null,
            "max_width": null,
            "min_height": null,
            "min_width": null,
            "object_fit": null,
            "object_position": null,
            "order": null,
            "overflow": null,
            "overflow_x": null,
            "overflow_y": null,
            "padding": null,
            "right": null,
            "top": null,
            "visibility": null,
            "width": null
          }
        },
        "be42c68e5fb04fc69bef8c64d6995eca": {
          "model_module": "@jupyter-widgets/controls",
          "model_name": "DescriptionStyleModel",
          "model_module_version": "1.5.0",
          "state": {
            "_model_module": "@jupyter-widgets/controls",
            "_model_module_version": "1.5.0",
            "_model_name": "DescriptionStyleModel",
            "_view_count": null,
            "_view_module": "@jupyter-widgets/base",
            "_view_module_version": "1.2.0",
            "_view_name": "StyleView",
            "description_width": ""
          }
        },
        "5b83ff06a9204f79b5443b5ed424b8cb": {
          "model_module": "@jupyter-widgets/base",
          "model_name": "LayoutModel",
          "model_module_version": "1.2.0",
          "state": {
            "_model_module": "@jupyter-widgets/base",
            "_model_module_version": "1.2.0",
            "_model_name": "LayoutModel",
            "_view_count": null,
            "_view_module": "@jupyter-widgets/base",
            "_view_module_version": "1.2.0",
            "_view_name": "LayoutView",
            "align_content": null,
            "align_items": null,
            "align_self": null,
            "border": null,
            "bottom": null,
            "display": null,
            "flex": null,
            "flex_flow": null,
            "grid_area": null,
            "grid_auto_columns": null,
            "grid_auto_flow": null,
            "grid_auto_rows": null,
            "grid_column": null,
            "grid_gap": null,
            "grid_row": null,
            "grid_template_areas": null,
            "grid_template_columns": null,
            "grid_template_rows": null,
            "height": null,
            "justify_content": null,
            "justify_items": null,
            "left": null,
            "margin": null,
            "max_height": null,
            "max_width": null,
            "min_height": null,
            "min_width": null,
            "object_fit": null,
            "object_position": null,
            "order": null,
            "overflow": null,
            "overflow_x": null,
            "overflow_y": null,
            "padding": null,
            "right": null,
            "top": null,
            "visibility": null,
            "width": null
          }
        },
        "557ad8031c434299bc216cbf08cbbbf6": {
          "model_module": "@jupyter-widgets/controls",
          "model_name": "ProgressStyleModel",
          "model_module_version": "1.5.0",
          "state": {
            "_model_module": "@jupyter-widgets/controls",
            "_model_module_version": "1.5.0",
            "_model_name": "ProgressStyleModel",
            "_view_count": null,
            "_view_module": "@jupyter-widgets/base",
            "_view_module_version": "1.2.0",
            "_view_name": "StyleView",
            "bar_color": null,
            "description_width": ""
          }
        },
        "c31182b04a51403889b468f2a6b5146a": {
          "model_module": "@jupyter-widgets/base",
          "model_name": "LayoutModel",
          "model_module_version": "1.2.0",
          "state": {
            "_model_module": "@jupyter-widgets/base",
            "_model_module_version": "1.2.0",
            "_model_name": "LayoutModel",
            "_view_count": null,
            "_view_module": "@jupyter-widgets/base",
            "_view_module_version": "1.2.0",
            "_view_name": "LayoutView",
            "align_content": null,
            "align_items": null,
            "align_self": null,
            "border": null,
            "bottom": null,
            "display": null,
            "flex": null,
            "flex_flow": null,
            "grid_area": null,
            "grid_auto_columns": null,
            "grid_auto_flow": null,
            "grid_auto_rows": null,
            "grid_column": null,
            "grid_gap": null,
            "grid_row": null,
            "grid_template_areas": null,
            "grid_template_columns": null,
            "grid_template_rows": null,
            "height": null,
            "justify_content": null,
            "justify_items": null,
            "left": null,
            "margin": null,
            "max_height": null,
            "max_width": null,
            "min_height": null,
            "min_width": null,
            "object_fit": null,
            "object_position": null,
            "order": null,
            "overflow": null,
            "overflow_x": null,
            "overflow_y": null,
            "padding": null,
            "right": null,
            "top": null,
            "visibility": null,
            "width": null
          }
        },
        "904f5dfa19f2492e99824c3f022579d0": {
          "model_module": "@jupyter-widgets/controls",
          "model_name": "DescriptionStyleModel",
          "model_module_version": "1.5.0",
          "state": {
            "_model_module": "@jupyter-widgets/controls",
            "_model_module_version": "1.5.0",
            "_model_name": "DescriptionStyleModel",
            "_view_count": null,
            "_view_module": "@jupyter-widgets/base",
            "_view_module_version": "1.2.0",
            "_view_name": "StyleView",
            "description_width": ""
          }
        }
      }
    }
  },
  "nbformat": 4,
  "nbformat_minor": 0
}